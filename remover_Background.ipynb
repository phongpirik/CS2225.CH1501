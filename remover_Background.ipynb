{
  "nbformat": 4,
  "nbformat_minor": 0,
  "metadata": {
    "colab": {
      "name": "remover_Background.ipynb",
      "provenance": [],
      "collapsed_sections": [],
      "authorship_tag": "ABX9TyN7NeD0bJ771T9qZVDhmeVn",
      "include_colab_link": true
    },
    "kernelspec": {
      "name": "python3",
      "display_name": "Python 3"
    }
  },
  "cells": [
    {
      "cell_type": "markdown",
      "metadata": {
        "id": "view-in-github",
        "colab_type": "text"
      },
      "source": [
        "<a href=\"https://colab.research.google.com/github/phongpirik/CS2225.CH1501/blob/tungnqd/remover_Background.ipynb\" target=\"_parent\"><img src=\"https://colab.research.google.com/assets/colab-badge.svg\" alt=\"Open In Colab\"/></a>"
      ]
    },
    {
      "cell_type": "code",
      "metadata": {
        "id": "fNyA6A965Aa_"
      },
      "source": [
        "#!/bin/bash\n",
        "!wget http://download.tensorflow.org/models/deeplabv3_mnv2_pascal_train_aug_2018_01_29.tar.gz\n",
        "!wget http://download.tensorflow.org/models/deeplabv3_pascal_train_aug_2018_01_04.tar.gz\n",
        "\n",
        "!mkdir -p models/mobile_net_model/model\n",
        "!tar xvzf deeplabv3_mnv2_pascal_train_aug_2018_01_29.tar.gz -C models/mobile_net_model/model --strip=1\n",
        "\n",
        "!mkdir -p models/xception_model/model\n",
        "!tar xvzf deeplabv3_pascal_train_aug_2018_01_04.tar.gz -C models/xception_model/model --strip=1\n",
        "\n",
        "\n",
        "!mkdir -p models/basnet\n",
        "!mkdir -p models/u2net\n",
        "!mkdir -p models/u2netp\n",
        "\n",
        "!cd setup/\n",
        "!/usr/bin/python3 download.py\n",
        "\n",
        "!mv basnet.pth ../models/basnet/\n",
        "!mv u2net.pth ../models/u2net/\n",
        "!mv u2netp.pth ../models/u2netp/\n",
        "\n",
        "!cd ../\n",
        "!rm deeplabv3_mnv2_pascal_train_aug_2018_01_29.tar.gz\n",
        "!rm deeplabv3_pascal_train_aug_2018_01_04.tar.gz\n",
        "!rm -rf setup*\n"
      ],
      "execution_count": null,
      "outputs": []
    }
  ]
}