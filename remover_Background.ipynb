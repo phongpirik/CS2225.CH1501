{
  "nbformat": 4,
  "nbformat_minor": 0,
  "metadata": {
    "colab": {
      "name": "remover_Background.ipynb",
      "provenance": [],
      "collapsed_sections": [],
      "authorship_tag": "ABX9TyNdigQ6uK8dTHXUiTGNbKE+",
      "include_colab_link": true
    },
    "kernelspec": {
      "name": "python3",
      "display_name": "Python 3"
    }
  },
  "cells": [
    {
      "cell_type": "markdown",
      "metadata": {
        "id": "view-in-github",
        "colab_type": "text"
      },
      "source": [
        "<a href=\"https://colab.research.google.com/github/phongpirik/CS2225.CH1501/blob/tungnqd/remover_Background.ipynb\" target=\"_parent\"><img src=\"https://colab.research.google.com/assets/colab-badge.svg\" alt=\"Open In Colab\"/></a>"
      ]
    },
    {
      "cell_type": "markdown",
      "metadata": {
        "id": "zHhfNTGK9nCm"
      },
      "source": [
        "# Setup"
      ]
    },
    {
      "cell_type": "code",
      "metadata": {
        "colab": {
          "base_uri": "https://localhost:8080/"
        },
        "id": "fNyA6A965Aa_",
        "outputId": "45cf908f-bf99-4784-e481-a1b669d37c28"
      },
      "source": [
        "#!/bin/bash\n",
        "!wget http://download.tensorflow.org/models/deeplabv3_mnv2_pascal_train_aug_2018_01_29.tar.gz\n",
        "!wget http://download.tensorflow.org/models/deeplabv3_pascal_train_aug_2018_01_04.tar.gz\n",
        "\n",
        "!mkdir -p models/mobile_net_model/model\n",
        "!tar xvzf deeplabv3_mnv2_pascal_train_aug_2018_01_29.tar.gz -C models/mobile_net_model/model --strip=1\n",
        "\n",
        "!mkdir -p models/xception_model/model\n",
        "!tar xvzf deeplabv3_pascal_train_aug_2018_01_04.tar.gz -C models/xception_model/model --strip=1\n",
        "\n",
        "\n",
        "!mkdir -p models/basnet\n",
        "!mkdir -p models/u2net\n",
        "!mkdir -p models/u2netp\n",
        "\n",
        "!cd setup/\n",
        "!/usr/bin/python3 download.py\n",
        "\n",
        "#!mv basnet.pth ../models/basnet/\n",
        "#!mv u2net.pth ../models/u2net/\n",
        "#!mv u2netp.pth ../models/u2netp/\n",
        "\n",
        "#!cd ../\n",
        "#!rm deeplabv3_mnv2_pascal_train_aug_2018_01_29.tar.gz\n",
        "#!rm deeplabv3_pascal_train_aug_2018_01_04.tar.gz\n",
        "#!rm -rf setup*\n"
      ],
      "execution_count": 2,
      "outputs": [
        {
          "output_type": "stream",
          "text": [
            "--2020-11-18 05:56:56--  http://download.tensorflow.org/models/deeplabv3_mnv2_pascal_train_aug_2018_01_29.tar.gz\n",
            "Resolving download.tensorflow.org (download.tensorflow.org)... 74.125.204.128, 2404:6800:4008:c07::80\n",
            "Connecting to download.tensorflow.org (download.tensorflow.org)|74.125.204.128|:80... connected.\n",
            "HTTP request sent, awaiting response... 200 OK\n",
            "Length: 23882985 (23M) [application/x-tar]\n",
            "Saving to: ‘deeplabv3_mnv2_pascal_train_aug_2018_01_29.tar.gz’\n",
            "\n",
            "deeplabv3_mnv2_pasc 100%[===================>]  22.78M  11.0MB/s    in 2.1s    \n",
            "\n",
            "2020-11-18 05:56:59 (11.0 MB/s) - ‘deeplabv3_mnv2_pascal_train_aug_2018_01_29.tar.gz’ saved [23882985/23882985]\n",
            "\n",
            "--2020-11-18 05:56:59--  http://download.tensorflow.org/models/deeplabv3_pascal_train_aug_2018_01_04.tar.gz\n",
            "Resolving download.tensorflow.org (download.tensorflow.org)... 108.177.125.128, 2404:6800:4008:c01::80\n",
            "Connecting to download.tensorflow.org (download.tensorflow.org)|108.177.125.128|:80... connected.\n",
            "HTTP request sent, awaiting response... 200 OK\n",
            "Length: 460058541 (439M) [application/x-tar]\n",
            "Saving to: ‘deeplabv3_pascal_train_aug_2018_01_04.tar.gz’\n",
            "\n",
            "deeplabv3_pascal_tr 100%[===================>] 438.75M  31.2MB/s    in 16s     \n",
            "\n",
            "2020-11-18 05:57:16 (27.9 MB/s) - ‘deeplabv3_pascal_train_aug_2018_01_04.tar.gz’ saved [460058541/460058541]\n",
            "\n",
            "deeplabv3_mnv2_pascal_train_aug/model.ckpt-30000.index\n",
            "deeplabv3_mnv2_pascal_train_aug/frozen_inference_graph.pb\n",
            "deeplabv3_mnv2_pascal_train_aug/model.ckpt-30000.data-00000-of-00001\n",
            "deeplabv3_pascal_train_aug/model.ckpt.index\n",
            "deeplabv3_pascal_train_aug/frozen_inference_graph.pb\n",
            "deeplabv3_pascal_train_aug/model.ckpt.data-00000-of-00001\n",
            "/bin/bash: line 0: cd: setup/: No such file or directory\n",
            "/usr/bin/python3: can't open file 'download.py': [Errno 2] No such file or directory\n"
          ],
          "name": "stdout"
        }
      ]
    },
    {
      "cell_type": "code",
      "metadata": {
        "id": "-JwsGSae6D2O"
      },
      "source": [
        "absl-py==0.9.0\n",
        "astunparse==1.6.3\n",
        "cachetools==4.1.1\n",
        "certifi==2020.6.20\n",
        "chardet==3.0.4\n",
        "cycler==0.10.0\n",
        "decorator==4.4.2\n",
        "django==3.0.8\n",
        "filelock==3.0.12\n",
        "future==0.18.2\n",
        "gast==0.3.3\n",
        "gdown==3.11.1\n",
        "gluoncv==0.7.0\n",
        "google-auth==1.18.0\n",
        "google-auth-oauthlib==0.4.1\n",
        "google-pasta==0.2.0\n",
        "graphviz==0.8.4\n",
        "grpcio==1.30.0\n",
        "h5py==2.10.0\n",
        "idna==2.10\n",
        "imageio==2.9.0\n",
        "Keras-Preprocessing==1.1.2\n",
        "kiwisolver==1.2.0\n",
        "Markdown==3.2.2\n",
        "matplotlib==3.2.2\n",
        "mxnet==1.6.0\n",
        "networkx==2.4\n",
        "numpy==1.19.0\n",
        "oauthlib==3.1.0\n",
        "opencv-python==4.3.0.36\n",
        "opt-einsum==3.2.1\n",
        "Pillow==7.2.0\n",
        "portalocker==1.7.0\n",
        "protobuf==3.12.2\n",
        "pyasn1==0.4.8\n",
        "pyasn1-modules==0.2.8\n",
        "pyparsing==2.4.7\n",
        "PySocks==1.7.1\n",
        "python-dateutil==2.8.1\n",
        "PyWavelets==1.1.1\n",
        "requests==2.24.0\n",
        "requests-oauthlib==1.3.0\n",
        "rsa==4.6\n",
        "scikit-image==0.17.2\n",
        "scipy==1.4.1\n",
        "six==1.15.0\n",
        "tensorboard==2.2.2\n",
        "tensorboard-plugin-wit==1.7.0\n",
        "tensorflow==2.2.1\n",
        "tensorflow-estimator==2.2.0\n",
        "termcolor==1.1.0\n",
        "tifffile==2020.7.4\n",
        "torch==1.5.1\n",
        "tqdm==4.47.0\n",
        "urllib3==1.25.9\n",
        "Werkzeug==1.0.1\n",
        "wrapt==1.12.1"
      ],
      "execution_count": null,
      "outputs": []
    },
    {
      "cell_type": "code",
      "metadata": {
        "id": "ddInaSbQ9yZ0"
      },
      "source": [
        ""
      ],
      "execution_count": null,
      "outputs": []
    }
  ]
}