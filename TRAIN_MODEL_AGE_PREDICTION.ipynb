{
  "nbformat": 4,
  "nbformat_minor": 0,
  "metadata": {
    "colab": {
      "name": "TRAIN_MODEL_AGE_PREDICTION.ipynb",
      "provenance": [],
      "authorship_tag": "ABX9TyP5qlG1ppFzbu9+2M6ELNYR",
      "include_colab_link": true
    },
    "kernelspec": {
      "name": "python3",
      "display_name": "Python 3"
    },
    "accelerator": "GPU"
  },
  "cells": [
    {
      "cell_type": "markdown",
      "metadata": {
        "id": "view-in-github",
        "colab_type": "text"
      },
      "source": [
        "<a href=\"https://colab.research.google.com/github/phongpirik/CS2225.CH1501/blob/tungnqd/TRAIN_MODEL_AGE_PREDICTION.ipynb\" target=\"_parent\"><img src=\"https://colab.research.google.com/assets/colab-badge.svg\" alt=\"Open In Colab\"/></a>"
      ]
    },
    {
      "cell_type": "code",
      "metadata": {
        "id": "ETiuBboy4-hM",
        "outputId": "7ac511bb-1c1d-4920-cc31-b04139317f68",
        "colab": {
          "base_uri": "https://localhost:8080/",
          "height": 121
        }
      },
      "source": [
        "# Clone the project\n",
        "!git clone https://github.com/mattans/AgeProgression.git"
      ],
      "execution_count": 1,
      "outputs": [
        {
          "output_type": "stream",
          "text": [
            "Cloning into 'AgeProgression'...\n",
            "remote: Enumerating objects: 24368, done.\u001b[K\n",
            "remote: Total 24368 (delta 0), reused 0 (delta 0), pack-reused 24368\u001b[K\n",
            "Receiving objects: 100% (24368/24368), 365.94 MiB | 36.41 MiB/s, done.\n",
            "Resolving deltas: 100% (614/614), done.\n",
            "Checking out files: 100% (47449/47449), done.\n"
          ],
          "name": "stdout"
        }
      ]
    },
    {
      "cell_type": "code",
      "metadata": {
        "id": "3c6wavkv9bOu",
        "outputId": "d9b5a404-0fe1-4113-fe03-e236bb1e9fae",
        "colab": {
          "base_uri": "https://localhost:8080/",
          "height": 419
        }
      },
      "source": [
        "# install pytorch 0.4.1\n",
        "!pip3 install http://download.pytorch.org/whl/cu92/torch-0.4.1-cp36-cp36m-linux_x86_64.whl\n",
        "!pip3 install torchvision"
      ],
      "execution_count": null,
      "outputs": [
        {
          "output_type": "stream",
          "text": [
            "Collecting torch==0.4.1\n",
            "\u001b[?25l  Downloading http://download.pytorch.org/whl/cu92/torch-0.4.1-cp36-cp36m-linux_x86_64.whl (512.6MB)\n",
            "\u001b[K     |████████████████████████████████| 512.6MB 1.1MB/s \n",
            "\u001b[31mERROR: torchvision 0.7.0+cu101 has requirement torch==1.6.0, but you'll have torch 0.4.1 which is incompatible.\u001b[0m\n",
            "\u001b[31mERROR: fastai 1.0.61 has requirement torch>=1.0.0, but you'll have torch 0.4.1 which is incompatible.\u001b[0m\n",
            "\u001b[?25hInstalling collected packages: torch\n",
            "  Found existing installation: torch 1.6.0+cu101\n",
            "    Uninstalling torch-1.6.0+cu101:\n",
            "      Successfully uninstalled torch-1.6.0+cu101\n",
            "Successfully installed torch-0.4.1\n",
            "Requirement already satisfied: torchvision in /usr/local/lib/python3.6/dist-packages (0.7.0+cu101)\n",
            "Requirement already satisfied: pillow>=4.1.1 in /usr/local/lib/python3.6/dist-packages (from torchvision) (7.0.0)\n",
            "Requirement already satisfied: numpy in /usr/local/lib/python3.6/dist-packages (from torchvision) (1.18.5)\n",
            "Collecting torch==1.6.0\n",
            "\u001b[?25l  Downloading https://files.pythonhosted.org/packages/38/53/914885a93a44b96c0dd1c36f36ff10afe341f091230aad68f7228d61db1e/torch-1.6.0-cp36-cp36m-manylinux1_x86_64.whl (748.8MB)\n",
            "\u001b[K     |████████████████████████████████| 748.8MB 23kB/s \n",
            "\u001b[?25hRequirement already satisfied: future in /usr/local/lib/python3.6/dist-packages (from torch==1.6.0->torchvision) (0.16.0)\n",
            "Installing collected packages: torch\n",
            "  Found existing installation: torch 0.4.1\n",
            "    Uninstalling torch-0.4.1:\n",
            "      Successfully uninstalled torch-0.4.1\n",
            "Successfully installed torch-1.6.0\n"
          ],
          "name": "stdout"
        }
      ]
    },
    {
      "cell_type": "code",
      "metadata": {
        "id": "99ZLlAJp5YQq",
        "outputId": "e900231a-abac-4139-810e-84bab49b9d36",
        "colab": {
          "base_uri": "https://localhost:8080/",
          "height": 34
        }
      },
      "source": [
        "# install python 3.7 \n",
        "\n",
        "# # install Anaconda3\n",
        "# !wget -qO ac.sh https://repo.anaconda.com/archive/Anaconda3-2020.07-Linux-x86_64.sh \n",
        "# !bash ./ac.sh -b\n",
        "\n",
        "# # a fake google.colab library\n",
        "# !ln -s /usr/local/lib/python3.6/dist-packages/google \\\n",
        "#        /root/anaconda3/lib/python3.8/site-packages/google\n",
        "\n",
        "# # start jupyterlab, which now has Python3 = 3.8\n",
        "# !nohup /root/anaconda3/bin/jupyter-lab --ip=0.0.0.0&\n",
        "\n",
        "# # access through ngrok, click the link\n",
        "# !pip install pyngrok -q\n",
        "# from pyngrok import ngrok\n",
        "# print(ngrok.connect(8888))\n",
        "\n",
        "# # Install the python version\n",
        "# !apt-get install python3.7\n",
        "\n",
        "!python3 --version"
      ],
      "execution_count": null,
      "outputs": [
        {
          "output_type": "stream",
          "text": [
            "Python 3.6.9\n"
          ],
          "name": "stdout"
        }
      ]
    },
    {
      "cell_type": "code",
      "metadata": {
        "id": "yQ3cpj2C_yrR",
        "outputId": "fed88035-1aaf-4d29-cfd9-284853907534",
        "colab": {
          "base_uri": "https://localhost:8080/",
          "height": 34
        }
      },
      "source": [
        "!pip install -q torch==1.6.0 torchvision"
      ],
      "execution_count": 7,
      "outputs": [
        {
          "output_type": "stream",
          "text": [
            "\u001b[K     |████████████████████████████████| 748.8MB 22kB/s \n",
            "\u001b[?25h"
          ],
          "name": "stdout"
        }
      ]
    },
    {
      "cell_type": "code",
      "metadata": {
        "id": "g0WIlXOvr1vI",
        "outputId": "1b12a4cc-d20f-4b7e-aada-1d84e2befa93",
        "colab": {
          "base_uri": "https://localhost:8080/",
          "height": 1000
        }
      },
      "source": [
        "!apt-get install nvidia-cuda-toolkit"
      ],
      "execution_count": 12,
      "outputs": [
        {
          "output_type": "stream",
          "text": [
            "Reading package lists... Done\n",
            "Building dependency tree       \n",
            "Reading state information... Done\n",
            "The following additional packages will be installed:\n",
            "  cpp-6 fonts-dejavu-core fonts-dejavu-extra g++-6 gcc-6 gcc-6-base\n",
            "  libaccinj64-9.1 libasan3 libatk-wrapper-java libatk-wrapper-java-jni\n",
            "  libcublas9.1 libcudart9.1 libcufft9.1 libcufftw9.1 libcuinj64-9.1\n",
            "  libcurand9.1 libcusolver9.1 libcusparse9.1 libgail-common libgail18\n",
            "  libgcc-6-dev libgtk2.0-0 libgtk2.0-bin libgtk2.0-common libnppc9.1\n",
            "  libnppial9.1 libnppicc9.1 libnppicom9.1 libnppidei9.1 libnppif9.1\n",
            "  libnppig9.1 libnppim9.1 libnppist9.1 libnppisu9.1 libnppitc9.1 libnpps9.1\n",
            "  libnvblas9.1 libnvgraph9.1 libnvrtc9.1 libnvtoolsext1 libnvvm3\n",
            "  libstdc++-6-dev libthrust-dev libvdpau-dev libxxf86dga1 nvidia-cuda-dev\n",
            "  nvidia-cuda-doc nvidia-cuda-gdb nvidia-profiler nvidia-visual-profiler\n",
            "  openjdk-8-jre openjdk-8-jre-headless x11-utils\n",
            "Suggested packages:\n",
            "  gcc-6-locales g++-6-multilib gcc-6-doc libstdc++6-6-dbg gcc-6-multilib\n",
            "  libgcc1-dbg libgomp1-dbg libitm1-dbg libatomic1-dbg libasan3-dbg\n",
            "  liblsan0-dbg libtsan0-dbg libubsan0-dbg libcilkrts5-dbg libmpx2-dbg\n",
            "  libquadmath0-dbg gvfs libstdc++-6-doc libvdpau-doc libcupti-dev\n",
            "  nvidia-driver icedtea-8-plugin libnss-mdns fonts-ipafont-gothic\n",
            "  fonts-ipafont-mincho fonts-wqy-microhei fonts-wqy-zenhei fonts-indic\n",
            "  mesa-utils\n",
            "Recommended packages:\n",
            "  libnvcuvid1\n",
            "The following NEW packages will be installed:\n",
            "  cpp-6 fonts-dejavu-core fonts-dejavu-extra g++-6 gcc-6 gcc-6-base\n",
            "  libaccinj64-9.1 libasan3 libatk-wrapper-java libatk-wrapper-java-jni\n",
            "  libcublas9.1 libcudart9.1 libcufft9.1 libcufftw9.1 libcuinj64-9.1\n",
            "  libcurand9.1 libcusolver9.1 libcusparse9.1 libgail-common libgail18\n",
            "  libgcc-6-dev libgtk2.0-0 libgtk2.0-bin libgtk2.0-common libnppc9.1\n",
            "  libnppial9.1 libnppicc9.1 libnppicom9.1 libnppidei9.1 libnppif9.1\n",
            "  libnppig9.1 libnppim9.1 libnppist9.1 libnppisu9.1 libnppitc9.1 libnpps9.1\n",
            "  libnvblas9.1 libnvgraph9.1 libnvrtc9.1 libnvtoolsext1 libnvvm3\n",
            "  libstdc++-6-dev libthrust-dev libvdpau-dev libxxf86dga1 nvidia-cuda-dev\n",
            "  nvidia-cuda-doc nvidia-cuda-gdb nvidia-cuda-toolkit nvidia-profiler\n",
            "  nvidia-visual-profiler openjdk-8-jre openjdk-8-jre-headless x11-utils\n",
            "0 upgraded, 54 newly installed, 0 to remove and 21 not upgraded.\n",
            "Need to get 830 MB of archives.\n",
            "After this operation, 1,994 MB of additional disk space will be used.\n",
            "Get:1 http://archive.ubuntu.com/ubuntu bionic/main amd64 libxxf86dga1 amd64 2:1.1.4-1 [13.7 kB]\n",
            "Get:2 http://ppa.launchpad.net/graphics-drivers/ppa/ubuntu bionic/main amd64 libvdpau-dev amd64 1.3-0ubuntu0~gpu18.04.2 [42.7 kB]\n",
            "Get:3 http://archive.ubuntu.com/ubuntu bionic-updates/universe amd64 gcc-6-base amd64 6.5.0-2ubuntu1~18.04 [16.7 kB]\n",
            "Get:4 http://archive.ubuntu.com/ubuntu bionic-updates/universe amd64 cpp-6 amd64 6.5.0-2ubuntu1~18.04 [6,396 kB]\n",
            "Get:5 http://archive.ubuntu.com/ubuntu bionic/main amd64 fonts-dejavu-core all 2.37-1 [1,041 kB]\n",
            "Get:6 http://archive.ubuntu.com/ubuntu bionic/main amd64 fonts-dejavu-extra all 2.37-1 [1,953 kB]\n",
            "Get:7 http://archive.ubuntu.com/ubuntu bionic-updates/universe amd64 libasan3 amd64 6.5.0-2ubuntu1~18.04 [313 kB]\n",
            "Get:8 http://archive.ubuntu.com/ubuntu bionic-updates/universe amd64 libgcc-6-dev amd64 6.5.0-2ubuntu1~18.04 [2,308 kB]\n",
            "Get:9 http://archive.ubuntu.com/ubuntu bionic-updates/universe amd64 gcc-6 amd64 6.5.0-2ubuntu1~18.04 [7,067 kB]\n",
            "Get:10 http://archive.ubuntu.com/ubuntu bionic-updates/universe amd64 libstdc++-6-dev amd64 6.5.0-2ubuntu1~18.04 [1,437 kB]\n",
            "Get:11 http://archive.ubuntu.com/ubuntu bionic-updates/universe amd64 g++-6 amd64 6.5.0-2ubuntu1~18.04 [7,213 kB]\n",
            "Get:12 http://archive.ubuntu.com/ubuntu bionic/multiverse amd64 libaccinj64-9.1 amd64 9.1.85-3ubuntu1 [1,748 kB]\n",
            "Get:13 http://archive.ubuntu.com/ubuntu bionic/main amd64 x11-utils amd64 7.7+3build1 [196 kB]\n",
            "Get:14 http://archive.ubuntu.com/ubuntu bionic/main amd64 libatk-wrapper-java all 0.33.3-20ubuntu0.1 [34.7 kB]\n",
            "Get:15 http://archive.ubuntu.com/ubuntu bionic/main amd64 libatk-wrapper-java-jni amd64 0.33.3-20ubuntu0.1 [28.3 kB]\n",
            "Get:16 http://archive.ubuntu.com/ubuntu bionic/multiverse amd64 libcublas9.1 amd64 9.1.85-3ubuntu1 [25.0 MB]\n",
            "Get:17 http://archive.ubuntu.com/ubuntu bionic/multiverse amd64 libcudart9.1 amd64 9.1.85-3ubuntu1 [121 kB]\n",
            "Get:18 http://archive.ubuntu.com/ubuntu bionic/multiverse amd64 libcufft9.1 amd64 9.1.85-3ubuntu1 [76.1 MB]\n",
            "Get:19 http://archive.ubuntu.com/ubuntu bionic/multiverse amd64 libcufftw9.1 amd64 9.1.85-3ubuntu1 [131 kB]\n",
            "Get:20 http://archive.ubuntu.com/ubuntu bionic/multiverse amd64 libcuinj64-9.1 amd64 9.1.85-3ubuntu1 [1,878 kB]\n",
            "Get:21 http://archive.ubuntu.com/ubuntu bionic/multiverse amd64 libcurand9.1 amd64 9.1.85-3ubuntu1 [38.9 MB]\n",
            "Get:22 http://archive.ubuntu.com/ubuntu bionic/multiverse amd64 libcusolver9.1 amd64 9.1.85-3ubuntu1 [28.2 MB]\n",
            "Get:23 http://archive.ubuntu.com/ubuntu bionic/multiverse amd64 libcusparse9.1 amd64 9.1.85-3ubuntu1 [25.2 MB]\n",
            "Get:24 http://archive.ubuntu.com/ubuntu bionic/main amd64 libgtk2.0-common all 2.24.32-1ubuntu1 [125 kB]\n",
            "Get:25 http://archive.ubuntu.com/ubuntu bionic/main amd64 libgtk2.0-0 amd64 2.24.32-1ubuntu1 [1,769 kB]\n",
            "Get:26 http://archive.ubuntu.com/ubuntu bionic/main amd64 libgail18 amd64 2.24.32-1ubuntu1 [14.2 kB]\n",
            "Get:27 http://archive.ubuntu.com/ubuntu bionic/main amd64 libgail-common amd64 2.24.32-1ubuntu1 [112 kB]\n",
            "Get:28 http://archive.ubuntu.com/ubuntu bionic/main amd64 libgtk2.0-bin amd64 2.24.32-1ubuntu1 [7,536 B]\n",
            "Get:29 http://archive.ubuntu.com/ubuntu bionic/multiverse amd64 libnppc9.1 amd64 9.1.85-3ubuntu1 [127 kB]\n",
            "Get:30 http://archive.ubuntu.com/ubuntu bionic/multiverse amd64 libnppial9.1 amd64 9.1.85-3ubuntu1 [3,169 kB]\n",
            "Get:31 http://archive.ubuntu.com/ubuntu bionic/multiverse amd64 libnppicc9.1 amd64 9.1.85-3ubuntu1 [1,376 kB]\n",
            "Get:32 http://archive.ubuntu.com/ubuntu bionic/multiverse amd64 libnppicom9.1 amd64 9.1.85-3ubuntu1 [497 kB]\n",
            "Get:33 http://archive.ubuntu.com/ubuntu bionic/multiverse amd64 libnppidei9.1 amd64 9.1.85-3ubuntu1 [1,673 kB]\n",
            "Get:34 http://archive.ubuntu.com/ubuntu bionic/multiverse amd64 libnppif9.1 amd64 9.1.85-3ubuntu1 [20.9 MB]\n",
            "Get:35 http://archive.ubuntu.com/ubuntu bionic/multiverse amd64 libnppig9.1 amd64 9.1.85-3ubuntu1 [9,960 kB]\n",
            "Get:36 http://archive.ubuntu.com/ubuntu bionic/multiverse amd64 libnppim9.1 amd64 9.1.85-3ubuntu1 [2,295 kB]\n",
            "Get:37 http://archive.ubuntu.com/ubuntu bionic/multiverse amd64 libnppist9.1 amd64 9.1.85-3ubuntu1 [4,910 kB]\n",
            "Get:38 http://archive.ubuntu.com/ubuntu bionic/multiverse amd64 libnppisu9.1 amd64 9.1.85-3ubuntu1 [120 kB]\n",
            "Get:39 http://archive.ubuntu.com/ubuntu bionic/multiverse amd64 libnppitc9.1 amd64 9.1.85-3ubuntu1 [714 kB]\n",
            "Get:40 http://archive.ubuntu.com/ubuntu bionic/multiverse amd64 libnpps9.1 amd64 9.1.85-3ubuntu1 [2,568 kB]\n",
            "Get:41 http://archive.ubuntu.com/ubuntu bionic/multiverse amd64 libnvblas9.1 amd64 9.1.85-3ubuntu1 [132 kB]\n",
            "Get:42 http://archive.ubuntu.com/ubuntu bionic/multiverse amd64 libnvgraph9.1 amd64 9.1.85-3ubuntu1 [6,252 kB]\n",
            "Get:43 http://archive.ubuntu.com/ubuntu bionic/multiverse amd64 libnvrtc9.1 amd64 9.1.85-3ubuntu1 [6,309 kB]\n",
            "Get:44 http://archive.ubuntu.com/ubuntu bionic-updates/universe amd64 openjdk-8-jre-headless amd64 8u265-b01-0ubuntu2~18.04 [27.5 MB]\n",
            "Get:45 http://archive.ubuntu.com/ubuntu bionic-updates/universe amd64 openjdk-8-jre amd64 8u265-b01-0ubuntu2~18.04 [69.6 kB]\n",
            "Get:46 http://archive.ubuntu.com/ubuntu bionic/multiverse amd64 libnvtoolsext1 amd64 9.1.85-3ubuntu1 [31.3 kB]\n",
            "Get:47 http://archive.ubuntu.com/ubuntu bionic/multiverse amd64 libnvvm3 amd64 9.1.85-3ubuntu1 [4,274 kB]\n",
            "Get:48 http://archive.ubuntu.com/ubuntu bionic/multiverse amd64 libthrust-dev all 1.9.1~9.1.85-3ubuntu1 [461 kB]\n",
            "Get:49 http://archive.ubuntu.com/ubuntu bionic/multiverse amd64 nvidia-cuda-dev amd64 9.1.85-3ubuntu1 [263 MB]\n",
            "Get:50 http://archive.ubuntu.com/ubuntu bionic/multiverse amd64 nvidia-cuda-doc all 9.1.85-3ubuntu1 [95.2 MB]\n",
            "Get:51 http://archive.ubuntu.com/ubuntu bionic/multiverse amd64 nvidia-cuda-gdb amd64 9.1.85-3ubuntu1 [2,724 kB]\n",
            "Get:52 http://archive.ubuntu.com/ubuntu bionic/multiverse amd64 nvidia-profiler amd64 9.1.85-3ubuntu1 [2,672 kB]\n",
            "Get:53 http://archive.ubuntu.com/ubuntu bionic/multiverse amd64 nvidia-cuda-toolkit amd64 9.1.85-3ubuntu1 [30.4 MB]\n",
            "Get:54 http://archive.ubuntu.com/ubuntu bionic/multiverse amd64 nvidia-visual-profiler amd64 9.1.85-3ubuntu1 [115 MB]\n",
            "Fetched 830 MB in 41s (20.2 MB/s)\n",
            "Extracting templates from packages: 100%\n",
            "Selecting previously unselected package libxxf86dga1:amd64.\n",
            "(Reading database ... 144611 files and directories currently installed.)\n",
            "Preparing to unpack .../00-libxxf86dga1_2%3a1.1.4-1_amd64.deb ...\n",
            "Unpacking libxxf86dga1:amd64 (2:1.1.4-1) ...\n",
            "Selecting previously unselected package gcc-6-base:amd64.\n",
            "Preparing to unpack .../01-gcc-6-base_6.5.0-2ubuntu1~18.04_amd64.deb ...\n",
            "Unpacking gcc-6-base:amd64 (6.5.0-2ubuntu1~18.04) ...\n",
            "Selecting previously unselected package cpp-6.\n",
            "Preparing to unpack .../02-cpp-6_6.5.0-2ubuntu1~18.04_amd64.deb ...\n",
            "Unpacking cpp-6 (6.5.0-2ubuntu1~18.04) ...\n",
            "Selecting previously unselected package fonts-dejavu-core.\n",
            "Preparing to unpack .../03-fonts-dejavu-core_2.37-1_all.deb ...\n",
            "Unpacking fonts-dejavu-core (2.37-1) ...\n",
            "Selecting previously unselected package fonts-dejavu-extra.\n",
            "Preparing to unpack .../04-fonts-dejavu-extra_2.37-1_all.deb ...\n",
            "Unpacking fonts-dejavu-extra (2.37-1) ...\n",
            "Selecting previously unselected package libasan3:amd64.\n",
            "Preparing to unpack .../05-libasan3_6.5.0-2ubuntu1~18.04_amd64.deb ...\n",
            "Unpacking libasan3:amd64 (6.5.0-2ubuntu1~18.04) ...\n",
            "Selecting previously unselected package libgcc-6-dev:amd64.\n",
            "Preparing to unpack .../06-libgcc-6-dev_6.5.0-2ubuntu1~18.04_amd64.deb ...\n",
            "Unpacking libgcc-6-dev:amd64 (6.5.0-2ubuntu1~18.04) ...\n",
            "Selecting previously unselected package gcc-6.\n",
            "Preparing to unpack .../07-gcc-6_6.5.0-2ubuntu1~18.04_amd64.deb ...\n",
            "Unpacking gcc-6 (6.5.0-2ubuntu1~18.04) ...\n",
            "Selecting previously unselected package libstdc++-6-dev:amd64.\n",
            "Preparing to unpack .../08-libstdc++-6-dev_6.5.0-2ubuntu1~18.04_amd64.deb ...\n",
            "Unpacking libstdc++-6-dev:amd64 (6.5.0-2ubuntu1~18.04) ...\n",
            "Selecting previously unselected package g++-6.\n",
            "Preparing to unpack .../09-g++-6_6.5.0-2ubuntu1~18.04_amd64.deb ...\n",
            "Unpacking g++-6 (6.5.0-2ubuntu1~18.04) ...\n",
            "Selecting previously unselected package libaccinj64-9.1:amd64.\n",
            "Preparing to unpack .../10-libaccinj64-9.1_9.1.85-3ubuntu1_amd64.deb ...\n",
            "Unpacking libaccinj64-9.1:amd64 (9.1.85-3ubuntu1) ...\n",
            "Selecting previously unselected package x11-utils.\n",
            "Preparing to unpack .../11-x11-utils_7.7+3build1_amd64.deb ...\n",
            "Unpacking x11-utils (7.7+3build1) ...\n",
            "Selecting previously unselected package libatk-wrapper-java.\n",
            "Preparing to unpack .../12-libatk-wrapper-java_0.33.3-20ubuntu0.1_all.deb ...\n",
            "Unpacking libatk-wrapper-java (0.33.3-20ubuntu0.1) ...\n",
            "Selecting previously unselected package libatk-wrapper-java-jni:amd64.\n",
            "Preparing to unpack .../13-libatk-wrapper-java-jni_0.33.3-20ubuntu0.1_amd64.deb ...\n",
            "Unpacking libatk-wrapper-java-jni:amd64 (0.33.3-20ubuntu0.1) ...\n",
            "Selecting previously unselected package libcublas9.1:amd64.\n",
            "Preparing to unpack .../14-libcublas9.1_9.1.85-3ubuntu1_amd64.deb ...\n",
            "Unpacking libcublas9.1:amd64 (9.1.85-3ubuntu1) ...\n",
            "Selecting previously unselected package libcudart9.1:amd64.\n",
            "Preparing to unpack .../15-libcudart9.1_9.1.85-3ubuntu1_amd64.deb ...\n",
            "Unpacking libcudart9.1:amd64 (9.1.85-3ubuntu1) ...\n",
            "Selecting previously unselected package libcufft9.1:amd64.\n",
            "Preparing to unpack .../16-libcufft9.1_9.1.85-3ubuntu1_amd64.deb ...\n",
            "Unpacking libcufft9.1:amd64 (9.1.85-3ubuntu1) ...\n",
            "Selecting previously unselected package libcufftw9.1:amd64.\n",
            "Preparing to unpack .../17-libcufftw9.1_9.1.85-3ubuntu1_amd64.deb ...\n",
            "Unpacking libcufftw9.1:amd64 (9.1.85-3ubuntu1) ...\n",
            "Selecting previously unselected package libcuinj64-9.1:amd64.\n",
            "Preparing to unpack .../18-libcuinj64-9.1_9.1.85-3ubuntu1_amd64.deb ...\n",
            "Unpacking libcuinj64-9.1:amd64 (9.1.85-3ubuntu1) ...\n",
            "Selecting previously unselected package libcurand9.1:amd64.\n",
            "Preparing to unpack .../19-libcurand9.1_9.1.85-3ubuntu1_amd64.deb ...\n",
            "Unpacking libcurand9.1:amd64 (9.1.85-3ubuntu1) ...\n",
            "Selecting previously unselected package libcusolver9.1:amd64.\n",
            "Preparing to unpack .../20-libcusolver9.1_9.1.85-3ubuntu1_amd64.deb ...\n",
            "Unpacking libcusolver9.1:amd64 (9.1.85-3ubuntu1) ...\n",
            "Selecting previously unselected package libcusparse9.1:amd64.\n",
            "Preparing to unpack .../21-libcusparse9.1_9.1.85-3ubuntu1_amd64.deb ...\n",
            "Unpacking libcusparse9.1:amd64 (9.1.85-3ubuntu1) ...\n",
            "Selecting previously unselected package libgtk2.0-common.\n",
            "Preparing to unpack .../22-libgtk2.0-common_2.24.32-1ubuntu1_all.deb ...\n",
            "Unpacking libgtk2.0-common (2.24.32-1ubuntu1) ...\n",
            "Selecting previously unselected package libgtk2.0-0:amd64.\n",
            "Preparing to unpack .../23-libgtk2.0-0_2.24.32-1ubuntu1_amd64.deb ...\n",
            "Unpacking libgtk2.0-0:amd64 (2.24.32-1ubuntu1) ...\n",
            "Selecting previously unselected package libgail18:amd64.\n",
            "Preparing to unpack .../24-libgail18_2.24.32-1ubuntu1_amd64.deb ...\n",
            "Unpacking libgail18:amd64 (2.24.32-1ubuntu1) ...\n",
            "Selecting previously unselected package libgail-common:amd64.\n",
            "Preparing to unpack .../25-libgail-common_2.24.32-1ubuntu1_amd64.deb ...\n",
            "Unpacking libgail-common:amd64 (2.24.32-1ubuntu1) ...\n",
            "Selecting previously unselected package libgtk2.0-bin.\n",
            "Preparing to unpack .../26-libgtk2.0-bin_2.24.32-1ubuntu1_amd64.deb ...\n",
            "Unpacking libgtk2.0-bin (2.24.32-1ubuntu1) ...\n",
            "Selecting previously unselected package libnppc9.1:amd64.\n",
            "Preparing to unpack .../27-libnppc9.1_9.1.85-3ubuntu1_amd64.deb ...\n",
            "Unpacking libnppc9.1:amd64 (9.1.85-3ubuntu1) ...\n",
            "Selecting previously unselected package libnppial9.1:amd64.\n",
            "Preparing to unpack .../28-libnppial9.1_9.1.85-3ubuntu1_amd64.deb ...\n",
            "Unpacking libnppial9.1:amd64 (9.1.85-3ubuntu1) ...\n",
            "Selecting previously unselected package libnppicc9.1:amd64.\n",
            "Preparing to unpack .../29-libnppicc9.1_9.1.85-3ubuntu1_amd64.deb ...\n",
            "Unpacking libnppicc9.1:amd64 (9.1.85-3ubuntu1) ...\n",
            "Selecting previously unselected package libnppicom9.1:amd64.\n",
            "Preparing to unpack .../30-libnppicom9.1_9.1.85-3ubuntu1_amd64.deb ...\n",
            "Unpacking libnppicom9.1:amd64 (9.1.85-3ubuntu1) ...\n",
            "Selecting previously unselected package libnppidei9.1:amd64.\n",
            "Preparing to unpack .../31-libnppidei9.1_9.1.85-3ubuntu1_amd64.deb ...\n",
            "Unpacking libnppidei9.1:amd64 (9.1.85-3ubuntu1) ...\n",
            "Selecting previously unselected package libnppif9.1:amd64.\n",
            "Preparing to unpack .../32-libnppif9.1_9.1.85-3ubuntu1_amd64.deb ...\n",
            "Unpacking libnppif9.1:amd64 (9.1.85-3ubuntu1) ...\n",
            "Selecting previously unselected package libnppig9.1:amd64.\n",
            "Preparing to unpack .../33-libnppig9.1_9.1.85-3ubuntu1_amd64.deb ...\n",
            "Unpacking libnppig9.1:amd64 (9.1.85-3ubuntu1) ...\n",
            "Selecting previously unselected package libnppim9.1:amd64.\n",
            "Preparing to unpack .../34-libnppim9.1_9.1.85-3ubuntu1_amd64.deb ...\n",
            "Unpacking libnppim9.1:amd64 (9.1.85-3ubuntu1) ...\n",
            "Selecting previously unselected package libnppist9.1:amd64.\n",
            "Preparing to unpack .../35-libnppist9.1_9.1.85-3ubuntu1_amd64.deb ...\n",
            "Unpacking libnppist9.1:amd64 (9.1.85-3ubuntu1) ...\n",
            "Selecting previously unselected package libnppisu9.1:amd64.\n",
            "Preparing to unpack .../36-libnppisu9.1_9.1.85-3ubuntu1_amd64.deb ...\n",
            "Unpacking libnppisu9.1:amd64 (9.1.85-3ubuntu1) ...\n",
            "Selecting previously unselected package libnppitc9.1:amd64.\n",
            "Preparing to unpack .../37-libnppitc9.1_9.1.85-3ubuntu1_amd64.deb ...\n",
            "Unpacking libnppitc9.1:amd64 (9.1.85-3ubuntu1) ...\n",
            "Selecting previously unselected package libnpps9.1:amd64.\n",
            "Preparing to unpack .../38-libnpps9.1_9.1.85-3ubuntu1_amd64.deb ...\n",
            "Unpacking libnpps9.1:amd64 (9.1.85-3ubuntu1) ...\n",
            "Selecting previously unselected package libnvblas9.1:amd64.\n",
            "Preparing to unpack .../39-libnvblas9.1_9.1.85-3ubuntu1_amd64.deb ...\n",
            "Unpacking libnvblas9.1:amd64 (9.1.85-3ubuntu1) ...\n",
            "Selecting previously unselected package libnvgraph9.1:amd64.\n",
            "Preparing to unpack .../40-libnvgraph9.1_9.1.85-3ubuntu1_amd64.deb ...\n",
            "Unpacking libnvgraph9.1:amd64 (9.1.85-3ubuntu1) ...\n",
            "Selecting previously unselected package libnvrtc9.1:amd64.\n",
            "Preparing to unpack .../41-libnvrtc9.1_9.1.85-3ubuntu1_amd64.deb ...\n",
            "Unpacking libnvrtc9.1:amd64 (9.1.85-3ubuntu1) ...\n",
            "Selecting previously unselected package libvdpau-dev:amd64.\n",
            "Preparing to unpack .../42-libvdpau-dev_1.3-0ubuntu0~gpu18.04.2_amd64.deb ...\n",
            "Unpacking libvdpau-dev:amd64 (1.3-0ubuntu0~gpu18.04.2) ...\n",
            "Selecting previously unselected package openjdk-8-jre-headless:amd64.\n",
            "Preparing to unpack .../43-openjdk-8-jre-headless_8u265-b01-0ubuntu2~18.04_amd64.deb ...\n",
            "Unpacking openjdk-8-jre-headless:amd64 (8u265-b01-0ubuntu2~18.04) ...\n",
            "Selecting previously unselected package openjdk-8-jre:amd64.\n",
            "Preparing to unpack .../44-openjdk-8-jre_8u265-b01-0ubuntu2~18.04_amd64.deb ...\n",
            "Unpacking openjdk-8-jre:amd64 (8u265-b01-0ubuntu2~18.04) ...\n",
            "Selecting previously unselected package libnvtoolsext1:amd64.\n",
            "Preparing to unpack .../45-libnvtoolsext1_9.1.85-3ubuntu1_amd64.deb ...\n",
            "Unpacking libnvtoolsext1:amd64 (9.1.85-3ubuntu1) ...\n",
            "Selecting previously unselected package libnvvm3:amd64.\n",
            "Preparing to unpack .../46-libnvvm3_9.1.85-3ubuntu1_amd64.deb ...\n",
            "Unpacking libnvvm3:amd64 (9.1.85-3ubuntu1) ...\n",
            "Selecting previously unselected package libthrust-dev.\n",
            "Preparing to unpack .../47-libthrust-dev_1.9.1~9.1.85-3ubuntu1_all.deb ...\n",
            "Unpacking libthrust-dev (1.9.1~9.1.85-3ubuntu1) ...\n",
            "Selecting previously unselected package nvidia-cuda-dev.\n",
            "Preparing to unpack .../48-nvidia-cuda-dev_9.1.85-3ubuntu1_amd64.deb ...\n",
            "Unpacking nvidia-cuda-dev (9.1.85-3ubuntu1) ...\n",
            "dpkg: error processing archive /tmp/apt-dpkg-install-5Q8rai/48-nvidia-cuda-dev_9.1.85-3ubuntu1_amd64.deb (--unpack):\n",
            " trying to overwrite '/usr/include/cublas.h', which is also in package libcublas-dev 10.2.1.243-1\n",
            "dpkg-deb: error: paste subprocess was killed by signal (Broken pipe)\n",
            "Selecting previously unselected package nvidia-cuda-doc.\n",
            "Preparing to unpack .../49-nvidia-cuda-doc_9.1.85-3ubuntu1_all.deb ...\n",
            "Unpacking nvidia-cuda-doc (9.1.85-3ubuntu1) ...\n",
            "Selecting previously unselected package nvidia-cuda-gdb.\n",
            "Preparing to unpack .../50-nvidia-cuda-gdb_9.1.85-3ubuntu1_amd64.deb ...\n",
            "Unpacking nvidia-cuda-gdb (9.1.85-3ubuntu1) ...\n",
            "Selecting previously unselected package nvidia-profiler.\n",
            "Preparing to unpack .../51-nvidia-profiler_9.1.85-3ubuntu1_amd64.deb ...\n",
            "Unpacking nvidia-profiler (9.1.85-3ubuntu1) ...\n",
            "Selecting previously unselected package nvidia-cuda-toolkit.\n",
            "Preparing to unpack .../52-nvidia-cuda-toolkit_9.1.85-3ubuntu1_amd64.deb ...\n",
            "Unpacking nvidia-cuda-toolkit (9.1.85-3ubuntu1) ...\n",
            "Selecting previously unselected package nvidia-visual-profiler.\n",
            "Preparing to unpack .../53-nvidia-visual-profiler_9.1.85-3ubuntu1_amd64.deb ...\n",
            "Unpacking nvidia-visual-profiler (9.1.85-3ubuntu1) ...\n",
            "Errors were encountered while processing:\n",
            " /tmp/apt-dpkg-install-5Q8rai/48-nvidia-cuda-dev_9.1.85-3ubuntu1_amd64.deb\n",
            "E: Sub-process /usr/bin/dpkg returned an error code (1)\n"
          ],
          "name": "stdout"
        }
      ]
    },
    {
      "cell_type": "code",
      "metadata": {
        "id": "yvMmO00eqojQ",
        "outputId": "91f650b2-8a1e-4479-b518-65f4a004220f",
        "colab": {
          "base_uri": "https://localhost:8080/",
          "height": 34
        }
      },
      "source": [
        "!pip install -q cudatoolkit=10.0 -c torchvision"
      ],
      "execution_count": 11,
      "outputs": [
        {
          "output_type": "stream",
          "text": [
            "\u001b[31mERROR: Could not open requirements file: [Errno 2] No such file or directory: 'torchvision'\u001b[0m\n"
          ],
          "name": "stdout"
        }
      ]
    },
    {
      "cell_type": "code",
      "metadata": {
        "id": "6gewWzGiT5cP",
        "outputId": "77f06991-fab1-4b26-c323-cee0b89b118f",
        "colab": {
          "base_uri": "https://localhost:8080/",
          "height": 280
        }
      },
      "source": [
        "!pip install PyDrive\n",
        "\n",
        "from pydrive.auth import GoogleAuth\n",
        "from pydrive.drive import GoogleDrive\n",
        "from google.colab import auth\n",
        "from oauth2client.client import GoogleCredentials"
      ],
      "execution_count": 2,
      "outputs": [
        {
          "output_type": "stream",
          "text": [
            "Requirement already satisfied: PyDrive in /usr/local/lib/python3.6/dist-packages (1.3.1)\n",
            "Requirement already satisfied: oauth2client>=4.0.0 in /usr/local/lib/python3.6/dist-packages (from PyDrive) (4.1.3)\n",
            "Requirement already satisfied: google-api-python-client>=1.2 in /usr/local/lib/python3.6/dist-packages (from PyDrive) (1.7.12)\n",
            "Requirement already satisfied: PyYAML>=3.0 in /usr/local/lib/python3.6/dist-packages (from PyDrive) (3.13)\n",
            "Requirement already satisfied: six>=1.6.1 in /usr/local/lib/python3.6/dist-packages (from oauth2client>=4.0.0->PyDrive) (1.15.0)\n",
            "Requirement already satisfied: pyasn1-modules>=0.0.5 in /usr/local/lib/python3.6/dist-packages (from oauth2client>=4.0.0->PyDrive) (0.2.8)\n",
            "Requirement already satisfied: httplib2>=0.9.1 in /usr/local/lib/python3.6/dist-packages (from oauth2client>=4.0.0->PyDrive) (0.17.4)\n",
            "Requirement already satisfied: rsa>=3.1.4 in /usr/local/lib/python3.6/dist-packages (from oauth2client>=4.0.0->PyDrive) (4.6)\n",
            "Requirement already satisfied: pyasn1>=0.1.7 in /usr/local/lib/python3.6/dist-packages (from oauth2client>=4.0.0->PyDrive) (0.4.8)\n",
            "Requirement already satisfied: uritemplate<4dev,>=3.0.0 in /usr/local/lib/python3.6/dist-packages (from google-api-python-client>=1.2->PyDrive) (3.0.1)\n",
            "Requirement already satisfied: google-auth-httplib2>=0.0.3 in /usr/local/lib/python3.6/dist-packages (from google-api-python-client>=1.2->PyDrive) (0.0.4)\n",
            "Requirement already satisfied: google-auth>=1.4.1 in /usr/local/lib/python3.6/dist-packages (from google-api-python-client>=1.2->PyDrive) (1.17.2)\n",
            "Requirement already satisfied: setuptools>=40.3.0 in /usr/local/lib/python3.6/dist-packages (from google-auth>=1.4.1->google-api-python-client>=1.2->PyDrive) (50.3.0)\n",
            "Requirement already satisfied: cachetools<5.0,>=2.0.0 in /usr/local/lib/python3.6/dist-packages (from google-auth>=1.4.1->google-api-python-client>=1.2->PyDrive) (4.1.1)\n"
          ],
          "name": "stdout"
        }
      ]
    },
    {
      "cell_type": "code",
      "metadata": {
        "id": "7il_U9gHSG3_",
        "outputId": "e06921a9-f20c-4fa7-f9c6-f127cac26b3f",
        "colab": {
          "base_uri": "https://localhost:8080/",
          "height": 489
        }
      },
      "source": [
        "!python3 AgeProgression/model.py --help\n",
        "!python3 AgeProgression/consts.py --help\n",
        "!python3 AgeProgression/utils.py --help"
      ],
      "execution_count": null,
      "outputs": [
        {
          "output_type": "stream",
          "text": [
            "/usr/local/lib/python3.6/dist-packages/sklearn/utils/deprecation.py:144: FutureWarning: The sklearn.metrics.regression module is  deprecated in version 0.22 and will be removed in version 0.24. The corresponding classes / functions should instead be imported from sklearn.metrics. Anything that cannot be imported from sklearn.metrics is now part of the private API.\n",
            "  warnings.warn(message, FutureWarning)\n",
            "Traceback (most recent call last):\n",
            "  File \"AgeProgression/model.py\", line 1, in <module>\n",
            "    from utils import *\n",
            "  File \"/content/AgeProgression/utils.py\", line 10, in <module>\n",
            "    import torchvision.transforms as transforms\n",
            "  File \"/usr/local/lib/python3.6/dist-packages/torchvision/__init__.py\", line 3, in <module>\n",
            "    from .extension import _HAS_OPS\n",
            "  File \"/usr/local/lib/python3.6/dist-packages/torchvision/extension.py\", line 58, in <module>\n",
            "    _check_cuda_version()\n",
            "  File \"/usr/local/lib/python3.6/dist-packages/torchvision/extension.py\", line 54, in _check_cuda_version\n",
            "    .format(t_major, t_minor, tv_major, tv_minor))\n",
            "RuntimeError: Detected that PyTorch and torchvision were compiled with different CUDA versions. PyTorch has CUDA Version=10.2 and torchvision has CUDA Version=10.1. Please reinstall the torchvision that matches your PyTorch install.\n",
            "/usr/local/lib/python3.6/dist-packages/sklearn/utils/deprecation.py:144: FutureWarning: The sklearn.metrics.regression module is  deprecated in version 0.22 and will be removed in version 0.24. The corresponding classes / functions should instead be imported from sklearn.metrics. Anything that cannot be imported from sklearn.metrics is now part of the private API.\n",
            "  warnings.warn(message, FutureWarning)\n",
            "Traceback (most recent call last):\n",
            "  File \"AgeProgression/utils.py\", line 10, in <module>\n",
            "    import torchvision.transforms as transforms\n",
            "  File \"/usr/local/lib/python3.6/dist-packages/torchvision/__init__.py\", line 3, in <module>\n",
            "    from .extension import _HAS_OPS\n",
            "  File \"/usr/local/lib/python3.6/dist-packages/torchvision/extension.py\", line 58, in <module>\n",
            "    _check_cuda_version()\n",
            "  File \"/usr/local/lib/python3.6/dist-packages/torchvision/extension.py\", line 54, in _check_cuda_version\n",
            "    .format(t_major, t_minor, tv_major, tv_minor))\n",
            "RuntimeError: Detected that PyTorch and torchvision were compiled with different CUDA versions. PyTorch has CUDA Version=10.2 and torchvision has CUDA Version=10.1. Please reinstall the torchvision that matches your PyTorch install.\n"
          ],
          "name": "stdout"
        }
      ]
    },
    {
      "cell_type": "code",
      "metadata": {
        "id": "ITqnTb_w5Tcu",
        "outputId": "a9016acd-0171-4595-f2a8-7d744b1ae37c",
        "colab": {
          "base_uri": "https://localhost:8080/",
          "height": 315
        }
      },
      "source": [
        "# Train model\n",
        "!python AgeProgression/main.py --help"
      ],
      "execution_count": 13,
      "outputs": [
        {
          "output_type": "stream",
          "text": [
            "/usr/local/lib/python3.6/dist-packages/sklearn/utils/deprecation.py:144: FutureWarning: The sklearn.metrics.regression module is  deprecated in version 0.22 and will be removed in version 0.24. The corresponding classes / functions should instead be imported from sklearn.metrics. Anything that cannot be imported from sklearn.metrics is now part of the private API.\n",
            "  warnings.warn(message, FutureWarning)\n",
            "Traceback (most recent call last):\n",
            "  File \"AgeProgression/main.py\", line 1, in <module>\n",
            "    import model\n",
            "  File \"/content/AgeProgression/model.py\", line 1, in <module>\n",
            "    from utils import *\n",
            "  File \"/content/AgeProgression/utils.py\", line 10, in <module>\n",
            "    import torchvision.transforms as transforms\n",
            "  File \"/usr/local/lib/python3.6/dist-packages/torchvision/__init__.py\", line 3, in <module>\n",
            "    from .extension import _HAS_OPS\n",
            "  File \"/usr/local/lib/python3.6/dist-packages/torchvision/extension.py\", line 58, in <module>\n",
            "    _check_cuda_version()\n",
            "  File \"/usr/local/lib/python3.6/dist-packages/torchvision/extension.py\", line 54, in _check_cuda_version\n",
            "    .format(t_major, t_minor, tv_major, tv_minor))\n",
            "RuntimeError: Detected that PyTorch and torchvision were compiled with different CUDA versions. PyTorch has CUDA Version=10.2 and torchvision has CUDA Version=10.1. Please reinstall the torchvision that matches your PyTorch install.\n"
          ],
          "name": "stdout"
        }
      ]
    },
    {
      "cell_type": "code",
      "metadata": {
        "id": "D-ysjeQc_o97",
        "outputId": "ae1909f9-0ea6-4734-9239-844ce2f7c5fd",
        "colab": {
          "base_uri": "https://localhost:8080/",
          "height": 315
        }
      },
      "source": [
        "!python AgeProgression/main.py --mode train --bs 256 -e 2"
      ],
      "execution_count": null,
      "outputs": [
        {
          "output_type": "stream",
          "text": [
            "/usr/local/lib/python3.6/dist-packages/sklearn/utils/deprecation.py:144: FutureWarning: The sklearn.metrics.regression module is  deprecated in version 0.22 and will be removed in version 0.24. The corresponding classes / functions should instead be imported from sklearn.metrics. Anything that cannot be imported from sklearn.metrics is now part of the private API.\n",
            "  warnings.warn(message, FutureWarning)\n",
            "Traceback (most recent call last):\n",
            "  File \"AgeProgression/main.py\", line 1, in <module>\n",
            "    import model\n",
            "  File \"/content/AgeProgression/model.py\", line 1, in <module>\n",
            "    from utils import *\n",
            "  File \"/content/AgeProgression/utils.py\", line 10, in <module>\n",
            "    import torchvision.transforms as transforms\n",
            "  File \"/usr/local/lib/python3.6/dist-packages/torchvision/__init__.py\", line 3, in <module>\n",
            "    from .extension import _HAS_OPS\n",
            "  File \"/usr/local/lib/python3.6/dist-packages/torchvision/extension.py\", line 58, in <module>\n",
            "    _check_cuda_version()\n",
            "  File \"/usr/local/lib/python3.6/dist-packages/torchvision/extension.py\", line 54, in _check_cuda_version\n",
            "    .format(t_major, t_minor, tv_major, tv_minor))\n",
            "RuntimeError: Detected that PyTorch and torchvision were compiled with different CUDA versions. PyTorch has CUDA Version=10.2 and torchvision has CUDA Version=10.1. Please reinstall the torchvision that matches your PyTorch install.\n"
          ],
          "name": "stdout"
        }
      ]
    },
    {
      "cell_type": "code",
      "metadata": {
        "id": "2Xn_LKpERoEv"
      },
      "source": [
        ""
      ],
      "execution_count": null,
      "outputs": []
    }
  ]
}