{
  "nbformat": 4,
  "nbformat_minor": 0,
  "metadata": {
    "colab": {
      "name": "TRAIN_MODEL_AGE_PREDICTION.ipynb",
      "provenance": [],
      "authorship_tag": "ABX9TyPjxBiuRlymOXe3MAxZPNx7",
      "include_colab_link": true
    },
    "kernelspec": {
      "name": "python3",
      "display_name": "Python 3"
    },
    "accelerator": "GPU"
  },
  "cells": [
    {
      "cell_type": "markdown",
      "metadata": {
        "id": "view-in-github",
        "colab_type": "text"
      },
      "source": [
        "<a href=\"https://colab.research.google.com/github/phongpirik/CS2225.CH1501/blob/tungnqd/TRAIN_MODEL_AGE_PREDICTION.ipynb\" target=\"_parent\"><img src=\"https://colab.research.google.com/assets/colab-badge.svg\" alt=\"Open In Colab\"/></a>"
      ]
    },
    {
      "cell_type": "code",
      "metadata": {
        "id": "ETiuBboy4-hM",
        "outputId": "f2b3324a-ea3f-4f19-c237-32d34a44d232",
        "colab": {
          "base_uri": "https://localhost:8080/",
          "height": 121
        }
      },
      "source": [
        "# Clone the project\n",
        "!git clone https://github.com/mattans/AgeProgression.git"
      ],
      "execution_count": 1,
      "outputs": [
        {
          "output_type": "stream",
          "text": [
            "Cloning into 'AgeProgression'...\n",
            "remote: Enumerating objects: 24368, done.\u001b[K\n",
            "remote: Total 24368 (delta 0), reused 0 (delta 0), pack-reused 24368\u001b[K\n",
            "Receiving objects: 100% (24368/24368), 365.94 MiB | 35.94 MiB/s, done.\n",
            "Resolving deltas: 100% (614/614), done.\n",
            "Checking out files: 100% (47449/47449), done.\n"
          ],
          "name": "stdout"
        }
      ]
    },
    {
      "cell_type": "code",
      "metadata": {
        "id": "3c6wavkv9bOu",
        "outputId": "d9b5a404-0fe1-4113-fe03-e236bb1e9fae",
        "colab": {
          "base_uri": "https://localhost:8080/",
          "height": 419
        }
      },
      "source": [
        "# install pytorch 0.4.1\n",
        "!pip3 install http://download.pytorch.org/whl/cu92/torch-0.4.1-cp36-cp36m-linux_x86_64.whl\n",
        "!pip3 install torchvision"
      ],
      "execution_count": 2,
      "outputs": [
        {
          "output_type": "stream",
          "text": [
            "Collecting torch==0.4.1\n",
            "\u001b[?25l  Downloading http://download.pytorch.org/whl/cu92/torch-0.4.1-cp36-cp36m-linux_x86_64.whl (512.6MB)\n",
            "\u001b[K     |████████████████████████████████| 512.6MB 1.1MB/s \n",
            "\u001b[31mERROR: torchvision 0.7.0+cu101 has requirement torch==1.6.0, but you'll have torch 0.4.1 which is incompatible.\u001b[0m\n",
            "\u001b[31mERROR: fastai 1.0.61 has requirement torch>=1.0.0, but you'll have torch 0.4.1 which is incompatible.\u001b[0m\n",
            "\u001b[?25hInstalling collected packages: torch\n",
            "  Found existing installation: torch 1.6.0+cu101\n",
            "    Uninstalling torch-1.6.0+cu101:\n",
            "      Successfully uninstalled torch-1.6.0+cu101\n",
            "Successfully installed torch-0.4.1\n",
            "Requirement already satisfied: torchvision in /usr/local/lib/python3.6/dist-packages (0.7.0+cu101)\n",
            "Requirement already satisfied: pillow>=4.1.1 in /usr/local/lib/python3.6/dist-packages (from torchvision) (7.0.0)\n",
            "Requirement already satisfied: numpy in /usr/local/lib/python3.6/dist-packages (from torchvision) (1.18.5)\n",
            "Collecting torch==1.6.0\n",
            "\u001b[?25l  Downloading https://files.pythonhosted.org/packages/38/53/914885a93a44b96c0dd1c36f36ff10afe341f091230aad68f7228d61db1e/torch-1.6.0-cp36-cp36m-manylinux1_x86_64.whl (748.8MB)\n",
            "\u001b[K     |████████████████████████████████| 748.8MB 23kB/s \n",
            "\u001b[?25hRequirement already satisfied: future in /usr/local/lib/python3.6/dist-packages (from torch==1.6.0->torchvision) (0.16.0)\n",
            "Installing collected packages: torch\n",
            "  Found existing installation: torch 0.4.1\n",
            "    Uninstalling torch-0.4.1:\n",
            "      Successfully uninstalled torch-0.4.1\n",
            "Successfully installed torch-1.6.0\n"
          ],
          "name": "stdout"
        }
      ]
    },
    {
      "cell_type": "code",
      "metadata": {
        "id": "99ZLlAJp5YQq",
        "outputId": "e900231a-abac-4139-810e-84bab49b9d36",
        "colab": {
          "base_uri": "https://localhost:8080/",
          "height": 34
        }
      },
      "source": [
        "# install python 3.7 \n",
        "\n",
        "# # install Anaconda3\n",
        "# !wget -qO ac.sh https://repo.anaconda.com/archive/Anaconda3-2020.07-Linux-x86_64.sh \n",
        "# !bash ./ac.sh -b\n",
        "\n",
        "# # a fake google.colab library\n",
        "# !ln -s /usr/local/lib/python3.6/dist-packages/google \\\n",
        "#        /root/anaconda3/lib/python3.8/site-packages/google\n",
        "\n",
        "# # start jupyterlab, which now has Python3 = 3.8\n",
        "# !nohup /root/anaconda3/bin/jupyter-lab --ip=0.0.0.0&\n",
        "\n",
        "# # access through ngrok, click the link\n",
        "# !pip install pyngrok -q\n",
        "# from pyngrok import ngrok\n",
        "# print(ngrok.connect(8888))\n",
        "\n",
        "# # Install the python version\n",
        "# !apt-get install python3.7\n",
        "\n",
        "!python3 --version"
      ],
      "execution_count": 3,
      "outputs": [
        {
          "output_type": "stream",
          "text": [
            "Python 3.6.9\n"
          ],
          "name": "stdout"
        }
      ]
    },
    {
      "cell_type": "code",
      "metadata": {
        "id": "yQ3cpj2C_yrR",
        "outputId": "126e96a2-0561-4b21-b461-a4d831eb4449",
        "colab": {
          "base_uri": "https://localhost:8080/",
          "height": 34
        }
      },
      "source": [
        "!torchvision --version"
      ],
      "execution_count": 21,
      "outputs": [
        {
          "output_type": "stream",
          "text": [
            "/bin/bash: torchvision: command not found\n"
          ],
          "name": "stdout"
        }
      ]
    },
    {
      "cell_type": "code",
      "metadata": {
        "id": "6gewWzGiT5cP",
        "outputId": "f06e2b20-4a3f-4117-cd13-92319e680524",
        "colab": {
          "base_uri": "https://localhost:8080/",
          "height": 280
        }
      },
      "source": [
        "!pip install PyDrive\n",
        "\n",
        "from pydrive.auth import GoogleAuth\n",
        "from pydrive.drive import GoogleDrive\n",
        "from google.colab import auth\n",
        "from oauth2client.client import GoogleCredentials"
      ],
      "execution_count": 16,
      "outputs": [
        {
          "output_type": "stream",
          "text": [
            "Requirement already satisfied: PyDrive in /usr/local/lib/python3.6/dist-packages (1.3.1)\n",
            "Requirement already satisfied: PyYAML>=3.0 in /usr/local/lib/python3.6/dist-packages (from PyDrive) (3.13)\n",
            "Requirement already satisfied: oauth2client>=4.0.0 in /usr/local/lib/python3.6/dist-packages (from PyDrive) (4.1.3)\n",
            "Requirement already satisfied: google-api-python-client>=1.2 in /usr/local/lib/python3.6/dist-packages (from PyDrive) (1.7.12)\n",
            "Requirement already satisfied: httplib2>=0.9.1 in /usr/local/lib/python3.6/dist-packages (from oauth2client>=4.0.0->PyDrive) (0.17.4)\n",
            "Requirement already satisfied: rsa>=3.1.4 in /usr/local/lib/python3.6/dist-packages (from oauth2client>=4.0.0->PyDrive) (4.6)\n",
            "Requirement already satisfied: six>=1.6.1 in /usr/local/lib/python3.6/dist-packages (from oauth2client>=4.0.0->PyDrive) (1.15.0)\n",
            "Requirement already satisfied: pyasn1-modules>=0.0.5 in /usr/local/lib/python3.6/dist-packages (from oauth2client>=4.0.0->PyDrive) (0.2.8)\n",
            "Requirement already satisfied: pyasn1>=0.1.7 in /usr/local/lib/python3.6/dist-packages (from oauth2client>=4.0.0->PyDrive) (0.4.8)\n",
            "Requirement already satisfied: uritemplate<4dev,>=3.0.0 in /usr/local/lib/python3.6/dist-packages (from google-api-python-client>=1.2->PyDrive) (3.0.1)\n",
            "Requirement already satisfied: google-auth-httplib2>=0.0.3 in /usr/local/lib/python3.6/dist-packages (from google-api-python-client>=1.2->PyDrive) (0.0.4)\n",
            "Requirement already satisfied: google-auth>=1.4.1 in /usr/local/lib/python3.6/dist-packages (from google-api-python-client>=1.2->PyDrive) (1.17.2)\n",
            "Requirement already satisfied: cachetools<5.0,>=2.0.0 in /usr/local/lib/python3.6/dist-packages (from google-auth>=1.4.1->google-api-python-client>=1.2->PyDrive) (4.1.1)\n",
            "Requirement already satisfied: setuptools>=40.3.0 in /usr/local/lib/python3.6/dist-packages (from google-auth>=1.4.1->google-api-python-client>=1.2->PyDrive) (50.3.0)\n"
          ],
          "name": "stdout"
        }
      ]
    },
    {
      "cell_type": "code",
      "metadata": {
        "id": "7il_U9gHSG3_",
        "outputId": "e06921a9-f20c-4fa7-f9c6-f127cac26b3f",
        "colab": {
          "base_uri": "https://localhost:8080/",
          "height": 489
        }
      },
      "source": [
        "!python3 AgeProgression/model.py --help\n",
        "!python3 AgeProgression/consts.py --help\n",
        "!python3 AgeProgression/utils.py --help"
      ],
      "execution_count": 18,
      "outputs": [
        {
          "output_type": "stream",
          "text": [
            "/usr/local/lib/python3.6/dist-packages/sklearn/utils/deprecation.py:144: FutureWarning: The sklearn.metrics.regression module is  deprecated in version 0.22 and will be removed in version 0.24. The corresponding classes / functions should instead be imported from sklearn.metrics. Anything that cannot be imported from sklearn.metrics is now part of the private API.\n",
            "  warnings.warn(message, FutureWarning)\n",
            "Traceback (most recent call last):\n",
            "  File \"AgeProgression/model.py\", line 1, in <module>\n",
            "    from utils import *\n",
            "  File \"/content/AgeProgression/utils.py\", line 10, in <module>\n",
            "    import torchvision.transforms as transforms\n",
            "  File \"/usr/local/lib/python3.6/dist-packages/torchvision/__init__.py\", line 3, in <module>\n",
            "    from .extension import _HAS_OPS\n",
            "  File \"/usr/local/lib/python3.6/dist-packages/torchvision/extension.py\", line 58, in <module>\n",
            "    _check_cuda_version()\n",
            "  File \"/usr/local/lib/python3.6/dist-packages/torchvision/extension.py\", line 54, in _check_cuda_version\n",
            "    .format(t_major, t_minor, tv_major, tv_minor))\n",
            "RuntimeError: Detected that PyTorch and torchvision were compiled with different CUDA versions. PyTorch has CUDA Version=10.2 and torchvision has CUDA Version=10.1. Please reinstall the torchvision that matches your PyTorch install.\n",
            "/usr/local/lib/python3.6/dist-packages/sklearn/utils/deprecation.py:144: FutureWarning: The sklearn.metrics.regression module is  deprecated in version 0.22 and will be removed in version 0.24. The corresponding classes / functions should instead be imported from sklearn.metrics. Anything that cannot be imported from sklearn.metrics is now part of the private API.\n",
            "  warnings.warn(message, FutureWarning)\n",
            "Traceback (most recent call last):\n",
            "  File \"AgeProgression/utils.py\", line 10, in <module>\n",
            "    import torchvision.transforms as transforms\n",
            "  File \"/usr/local/lib/python3.6/dist-packages/torchvision/__init__.py\", line 3, in <module>\n",
            "    from .extension import _HAS_OPS\n",
            "  File \"/usr/local/lib/python3.6/dist-packages/torchvision/extension.py\", line 58, in <module>\n",
            "    _check_cuda_version()\n",
            "  File \"/usr/local/lib/python3.6/dist-packages/torchvision/extension.py\", line 54, in _check_cuda_version\n",
            "    .format(t_major, t_minor, tv_major, tv_minor))\n",
            "RuntimeError: Detected that PyTorch and torchvision were compiled with different CUDA versions. PyTorch has CUDA Version=10.2 and torchvision has CUDA Version=10.1. Please reinstall the torchvision that matches your PyTorch install.\n"
          ],
          "name": "stdout"
        }
      ]
    },
    {
      "cell_type": "code",
      "metadata": {
        "id": "ITqnTb_w5Tcu",
        "outputId": "45309111-fe53-4f37-f87f-b32fca541246",
        "colab": {
          "base_uri": "https://localhost:8080/",
          "height": 315
        }
      },
      "source": [
        "# Train model\n",
        "!python AgeProgression/main.py --help"
      ],
      "execution_count": 19,
      "outputs": [
        {
          "output_type": "stream",
          "text": [
            "/usr/local/lib/python3.6/dist-packages/sklearn/utils/deprecation.py:144: FutureWarning: The sklearn.metrics.regression module is  deprecated in version 0.22 and will be removed in version 0.24. The corresponding classes / functions should instead be imported from sklearn.metrics. Anything that cannot be imported from sklearn.metrics is now part of the private API.\n",
            "  warnings.warn(message, FutureWarning)\n",
            "Traceback (most recent call last):\n",
            "  File \"AgeProgression/main.py\", line 1, in <module>\n",
            "    import model\n",
            "  File \"/content/AgeProgression/model.py\", line 1, in <module>\n",
            "    from utils import *\n",
            "  File \"/content/AgeProgression/utils.py\", line 10, in <module>\n",
            "    import torchvision.transforms as transforms\n",
            "  File \"/usr/local/lib/python3.6/dist-packages/torchvision/__init__.py\", line 3, in <module>\n",
            "    from .extension import _HAS_OPS\n",
            "  File \"/usr/local/lib/python3.6/dist-packages/torchvision/extension.py\", line 58, in <module>\n",
            "    _check_cuda_version()\n",
            "  File \"/usr/local/lib/python3.6/dist-packages/torchvision/extension.py\", line 54, in _check_cuda_version\n",
            "    .format(t_major, t_minor, tv_major, tv_minor))\n",
            "RuntimeError: Detected that PyTorch and torchvision were compiled with different CUDA versions. PyTorch has CUDA Version=10.2 and torchvision has CUDA Version=10.1. Please reinstall the torchvision that matches your PyTorch install.\n"
          ],
          "name": "stdout"
        }
      ]
    },
    {
      "cell_type": "code",
      "metadata": {
        "id": "D-ysjeQc_o97",
        "outputId": "ae1909f9-0ea6-4734-9239-844ce2f7c5fd",
        "colab": {
          "base_uri": "https://localhost:8080/",
          "height": 315
        }
      },
      "source": [
        "!python AgeProgression/main.py --mode train --bs 256 -e 2"
      ],
      "execution_count": 8,
      "outputs": [
        {
          "output_type": "stream",
          "text": [
            "/usr/local/lib/python3.6/dist-packages/sklearn/utils/deprecation.py:144: FutureWarning: The sklearn.metrics.regression module is  deprecated in version 0.22 and will be removed in version 0.24. The corresponding classes / functions should instead be imported from sklearn.metrics. Anything that cannot be imported from sklearn.metrics is now part of the private API.\n",
            "  warnings.warn(message, FutureWarning)\n",
            "Traceback (most recent call last):\n",
            "  File \"AgeProgression/main.py\", line 1, in <module>\n",
            "    import model\n",
            "  File \"/content/AgeProgression/model.py\", line 1, in <module>\n",
            "    from utils import *\n",
            "  File \"/content/AgeProgression/utils.py\", line 10, in <module>\n",
            "    import torchvision.transforms as transforms\n",
            "  File \"/usr/local/lib/python3.6/dist-packages/torchvision/__init__.py\", line 3, in <module>\n",
            "    from .extension import _HAS_OPS\n",
            "  File \"/usr/local/lib/python3.6/dist-packages/torchvision/extension.py\", line 58, in <module>\n",
            "    _check_cuda_version()\n",
            "  File \"/usr/local/lib/python3.6/dist-packages/torchvision/extension.py\", line 54, in _check_cuda_version\n",
            "    .format(t_major, t_minor, tv_major, tv_minor))\n",
            "RuntimeError: Detected that PyTorch and torchvision were compiled with different CUDA versions. PyTorch has CUDA Version=10.2 and torchvision has CUDA Version=10.1. Please reinstall the torchvision that matches your PyTorch install.\n"
          ],
          "name": "stdout"
        }
      ]
    },
    {
      "cell_type": "code",
      "metadata": {
        "id": "2Xn_LKpERoEv"
      },
      "source": [
        ""
      ],
      "execution_count": null,
      "outputs": []
    }
  ]
}