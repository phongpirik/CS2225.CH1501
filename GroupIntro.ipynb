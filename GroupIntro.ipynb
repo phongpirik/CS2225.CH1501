{
  "nbformat": 4,
  "nbformat_minor": 0,
  "metadata": {
    "colab": {
      "name": "GroupIntro.ipynb",
      "provenance": [],
      "collapsed_sections": [],
      "toc_visible": true,
      "authorship_tag": "ABX9TyPZmDhADuI2HHQrMM/TkMKJ",
      "include_colab_link": true
    },
    "kernelspec": {
      "name": "python3",
      "display_name": "Python 3"
    }
  },
  "cells": [
    {
      "cell_type": "markdown",
      "metadata": {
        "id": "view-in-github",
        "colab_type": "text"
      },
      "source": [
        "<a href=\"https://colab.research.google.com/github/phongpirik/CS2225.CH1501/blob/master/GroupIntro.ipynb\" target=\"_parent\"><img src=\"https://colab.research.google.com/assets/colab-badge.svg\" alt=\"Open In Colab\"/></a>"
      ]
    },
    {
      "cell_type": "markdown",
      "metadata": {
        "id": "5J7MLuIe0tWX",
        "colab_type": "text"
      },
      "source": [
        "Thông tin Nhóm N008:\n",
        "1. NT: Nguyễn Hoàng Thịnh. MSHV: CH2001016. email: thinhnh.15@grad.uit.edu.vn\n",
        "2. NT: Nguyễn Quan Duy Tùng. MSHV: CH2001019. email: tungnqd.15@grad.uit.edu.vn\n",
        "1. NT: Nguyễn Thanh Phong. MSHV: CH2001012. email: phongnt.15@grad.uit.edu.vn\n",
        "\n"
      ]
    }
  ]
}