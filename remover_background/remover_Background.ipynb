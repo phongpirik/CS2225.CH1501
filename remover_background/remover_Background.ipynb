{
  "nbformat": 4,
  "nbformat_minor": 0,
  "metadata": {
    "colab": {
      "name": "remover_Background.ipynb",
      "provenance": [],
      "collapsed_sections": [],
      "authorship_tag": "ABX9TyODt+i2gyNagSat8mOUfKpN",
      "include_colab_link": true
    },
    "kernelspec": {
      "name": "python3",
      "display_name": "Python 3"
    }
  },
  "cells": [
    {
      "cell_type": "markdown",
      "metadata": {
        "id": "view-in-github",
        "colab_type": "text"
      },
      "source": [
        "<a href=\"https://colab.research.google.com/github/phongpirik/CS2225.CH1501/blob/tungnqd/remover_Background.ipynb\" target=\"_parent\"><img src=\"https://colab.research.google.com/assets/colab-badge.svg\" alt=\"Open In Colab\"/></a>"
      ]
    },
    {
      "cell_type": "markdown",
      "metadata": {
        "id": "zHhfNTGK9nCm"
      },
      "source": [
        "# Setup"
      ]
    },
    {
      "cell_type": "code",
      "metadata": {
        "colab": {
          "base_uri": "https://localhost:8080/"
        },
        "id": "fNyA6A965Aa_",
        "outputId": "45cf908f-bf99-4784-e481-a1b669d37c28"
      },
      "source": [
        "#!/bin/bash\n",
        "!wget http://download.tensorflow.org/models/deeplabv3_mnv2_pascal_train_aug_2018_01_29.tar.gz\n",
        "!wget http://download.tensorflow.org/models/deeplabv3_pascal_train_aug_2018_01_04.tar.gz\n",
        "\n",
        "!mkdir -p models/mobile_net_model/model\n",
        "!tar xvzf deeplabv3_mnv2_pascal_train_aug_2018_01_29.tar.gz -C models/mobile_net_model/model --strip=1\n",
        "\n",
        "!mkdir -p models/xception_model/model\n",
        "!tar xvzf deeplabv3_pascal_train_aug_2018_01_04.tar.gz -C models/xception_model/model --strip=1\n",
        "\n",
        "\n",
        "!mkdir -p models/basnet\n",
        "!mkdir -p models/u2net\n",
        "!mkdir -p models/u2netp\n",
        "\n",
        "!cd setup/\n",
        "!/usr/bin/python3 download.py\n",
        "\n",
        "#!mv basnet.pth ../models/basnet/\n",
        "#!mv u2net.pth ../models/u2net/\n",
        "#!mv u2netp.pth ../models/u2netp/\n",
        "\n",
        "#!cd ../\n",
        "#!rm deeplabv3_mnv2_pascal_train_aug_2018_01_29.tar.gz\n",
        "#!rm deeplabv3_pascal_train_aug_2018_01_04.tar.gz\n",
        "#!rm -rf setup*\n"
      ],
      "execution_count": 2,
      "outputs": [
        {
          "output_type": "stream",
          "text": [
            "--2020-11-18 05:56:56--  http://download.tensorflow.org/models/deeplabv3_mnv2_pascal_train_aug_2018_01_29.tar.gz\n",
            "Resolving download.tensorflow.org (download.tensorflow.org)... 74.125.204.128, 2404:6800:4008:c07::80\n",
            "Connecting to download.tensorflow.org (download.tensorflow.org)|74.125.204.128|:80... connected.\n",
            "HTTP request sent, awaiting response... 200 OK\n",
            "Length: 23882985 (23M) [application/x-tar]\n",
            "Saving to: ‘deeplabv3_mnv2_pascal_train_aug_2018_01_29.tar.gz’\n",
            "\n",
            "deeplabv3_mnv2_pasc 100%[===================>]  22.78M  11.0MB/s    in 2.1s    \n",
            "\n",
            "2020-11-18 05:56:59 (11.0 MB/s) - ‘deeplabv3_mnv2_pascal_train_aug_2018_01_29.tar.gz’ saved [23882985/23882985]\n",
            "\n",
            "--2020-11-18 05:56:59--  http://download.tensorflow.org/models/deeplabv3_pascal_train_aug_2018_01_04.tar.gz\n",
            "Resolving download.tensorflow.org (download.tensorflow.org)... 108.177.125.128, 2404:6800:4008:c01::80\n",
            "Connecting to download.tensorflow.org (download.tensorflow.org)|108.177.125.128|:80... connected.\n",
            "HTTP request sent, awaiting response... 200 OK\n",
            "Length: 460058541 (439M) [application/x-tar]\n",
            "Saving to: ‘deeplabv3_pascal_train_aug_2018_01_04.tar.gz’\n",
            "\n",
            "deeplabv3_pascal_tr 100%[===================>] 438.75M  31.2MB/s    in 16s     \n",
            "\n",
            "2020-11-18 05:57:16 (27.9 MB/s) - ‘deeplabv3_pascal_train_aug_2018_01_04.tar.gz’ saved [460058541/460058541]\n",
            "\n",
            "deeplabv3_mnv2_pascal_train_aug/model.ckpt-30000.index\n",
            "deeplabv3_mnv2_pascal_train_aug/frozen_inference_graph.pb\n",
            "deeplabv3_mnv2_pascal_train_aug/model.ckpt-30000.data-00000-of-00001\n",
            "deeplabv3_pascal_train_aug/model.ckpt.index\n",
            "deeplabv3_pascal_train_aug/frozen_inference_graph.pb\n",
            "deeplabv3_pascal_train_aug/model.ckpt.data-00000-of-00001\n",
            "/bin/bash: line 0: cd: setup/: No such file or directory\n",
            "/usr/bin/python3: can't open file 'download.py': [Errno 2] No such file or directory\n"
          ],
          "name": "stdout"
        }
      ]
    },
    {
      "cell_type": "code",
      "metadata": {
        "id": "-JwsGSae6D2O"
      },
      "source": [
        "!python3 -m pip install -r absl-py==0.9.0\n",
        "!python3 -m pip install -r astunparse==1.6.3\n",
        "!python3 -m pip install -r cachetools==4.1.1\n",
        "!python3 -m pip install -r certifi==2020.6.20\n",
        "!python3 -m pip install -r chardet==3.0.4\n",
        "!python3 -m pip install -r cycler==0.10.0\n",
        "!python3 -m pip install -r decorator==4.4.2\n",
        "!python3 -m pip install -r django==3.0.8\n",
        "!python3 -m pip install -r filelock==3.0.12\n",
        "!python3 -m pip install -r future==0.18.2\n",
        "!python3 -m pip install -r gast==0.3.3\n",
        "!python3 -m pip install -r gdown==3.11.1\n",
        "!python3 -m pip install -r gluoncv==0.7.0\n",
        "!python3 -m pip install -r google-auth==1.18.0\n",
        "!python3 -m pip install -r google-auth-oauthlib==0.4.1\n",
        "!python3 -m pip install -r google-pasta==0.2.0\n",
        "!python3 -m pip install -r graphviz==0.8.4\n",
        "!python3 -m pip install -r grpcio==1.30.0\n",
        "!python3 -m pip install -r h5py==2.10.0\n",
        "!python3 -m pip install -r idna==2.10\n",
        "!python3 -m pip install -r imageio==2.9.0\n",
        "!python3 -m pip install -r Keras-Preprocessing==1.1.2\n",
        "!python3 -m pip install -r kiwisolver==1.2.0 \n",
        "!python3 -m pip install -r Markdown==3.2.2\n",
        "!python3 -m pip install -r matplotlib==3.2.2\n",
        "!python3 -m pip install -r mxnet==1.6.0\n",
        "!python3 -m pip install -r networkx==2.4\n",
        "!python3 -m pip install -r numpy==1.19.0\n",
        "!python3 -m pip install -r oauthlib==3.1.0\n",
        "!python3 -m pip install -r opencv-python==4.3.0.36\n",
        "!python3 -m pip install -r opt-einsum==3.2.1\n",
        "!python3 -m pip install -r Pillow==7.2.0\n",
        "!python3 -m pip install -r portalocker==1.7.0 \n",
        "!python3 -m pip install -r protobuf==3.12.2\n",
        "!python3 -m pip install -r pyasn1==0.4.8\n",
        "!python3 -m pip install -r pyasn1-modules==0.2.8\n",
        "!python3 -m pip install -r pyparsing==2.4.7\n",
        "!python3 -m pip install -r PySocks==1.7.1\n",
        "!python3 -m pip install -r python-dateutil==2.8.1\n",
        "!python3 -m pip install -r PyWavelets==1.1.1\n",
        "!python3 -m pip install -r requests==2.24.0\n",
        "!python3 -m pip install -r requests-oauthlib==1.3.0\n",
        "!python3 -m pip install -r rsa==4.6\n",
        "!python3 -m pip install -r scikit-image==0.17.2\n",
        "!python3 -m pip install -r scipy==1.4.1\n",
        "!python3 -m pip install -r six==1.15.0\n",
        "!python3 -m pip install -r tensorboard==2.2.2\n",
        "!python3 -m pip install -r tensorboard-plugin-wit==1.7.0\n",
        "!python3 -m pip install -r tensorflow==2.2.1\n",
        "!python3 -m pip install -r tensorflow-estimator==2.2.0\n",
        "!python3 -m pip install -r termcolor==1.1.0\n",
        "!python3 -m pip install -r tifffile==2020.7.4\n",
        "!python3 -m pip install -r torch==1.5.1\n",
        "!python3 -m pip install -r tqdm==4.47.0\n",
        "!python3 -m pip install -r urllib3==1.25.9\n",
        "!python3 -m pip install -r Werkzeug==1.0.1\n",
        "!python3 -m pip install -r wrapt==1.12.1"
      ],
      "execution_count": null,
      "outputs": []
    },
    {
      "cell_type": "code",
      "metadata": {
        "id": "ddInaSbQ9yZ0"
      },
      "source": [
        ""
      ],
      "execution_count": null,
      "outputs": []
    }
  ]
}
