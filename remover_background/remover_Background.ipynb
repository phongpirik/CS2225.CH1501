{
  "nbformat": 4,
  "nbformat_minor": 0,
  "metadata": {
    "colab": {
      "name": "remover_Background.ipynb",
      "provenance": [],
      "collapsed_sections": [],
      "authorship_tag": "ABX9TyOTypDXJ0sMKUTjFiCvuweQ",
      "include_colab_link": true
    },
    "kernelspec": {
      "name": "python3",
      "display_name": "Python 3"
    }
  },
  "cells": [
    {
      "cell_type": "markdown",
      "metadata": {
        "id": "view-in-github",
        "colab_type": "text"
      },
      "source": [
        "<a href=\"https://colab.research.google.com/github/phongpirik/CS2225.CH1501/blob/tungnqd/remover_background/remover_Background.ipynb\" target=\"_parent\"><img src=\"https://colab.research.google.com/assets/colab-badge.svg\" alt=\"Open In Colab\"/></a>"
      ]
    },
    {
      "cell_type": "markdown",
      "metadata": {
        "id": "zHhfNTGK9nCm"
      },
      "source": [
        "# Setup"
      ]
    },
    {
      "cell_type": "code",
      "metadata": {
        "id": "fNyA6A965Aa_"
      },
      "source": [
        "#!/bin/bash\n",
        "!apt-get update\n",
        "!wget http://download.tensorflow.org/models/deeplabv3_mnv2_pascal_train_aug_2018_01_29.tar.gz\n",
        "!wget http://download.tensorflow.org/models/deeplabv3_pascal_train_aug_2018_01_04.tar.gz\n",
        "\n",
        "!mkdir -p models/mobile_net_model/model\n",
        "!tar xvzf deeplabv3_mnv2_pascal_train_aug_2018_01_29.tar.gz -C models/mobile_net_model/model --strip=1\n",
        "\n",
        "!mkdir -p models/xception_model/model\n",
        "!tar xvzf deeplabv3_pascal_train_aug_2018_01_04.tar.gz -C models/xception_model/model --strip=1\n",
        "\n",
        "\n",
        "!mkdir -p models/basnet\n",
        "!mkdir -p models/u2net\n",
        "!mkdir -p models/u2netp\n",
        "\n",
        "!pip install --upgrade gdown\n",
        "import gdown\n",
        "\n",
        "url = 'https://drive.google.com/uc?id=1s52ek_4YTDRt_EOkx1FS53u-vJa0c4nu'\n",
        "output = 'basnet.pth'\n",
        "gdown.download(url, output, quiet=False)\n",
        "gdown.cached_download(url, output, postprocess=gdown.extractall)\n",
        "\n",
        "url = 'https://drive.google.com/uc?id=1rbSTGKAE-MTxBYHd-51l2hMOQPT_7EPy'\n",
        "output = 'u2netp.pth'\n",
        "gdown.download(url, output, quiet=False)\n",
        "gdown.cached_download(url, output, postprocess=gdown.extractall)\n",
        "\n",
        "url = 'https://drive.google.com/uc?id=1ao1ovG1Qtx4b7EoskHXmi2E9rp5CHLcZ'\n",
        "output = 'u2net.pth'\n",
        "gdown.download(url, output, quiet=False)\n",
        "gdown.cached_download(url, output, postprocess=gdown.extractall)\n",
        "\n",
        "!mv basnet.pth ../models/basnet/\n",
        "!mv u2net.pth ../models/u2net/\n",
        "!mv u2netp.pth ../models/u2netp/\n",
        "\n",
        "!cd \n",
        "!rm deeplabv3_mnv2_pascal_train_aug_2018_01_29.tar.gz\n",
        "!rm deeplabv3_pascal_train_aug_2018_01_04.tar.gz\n",
        "!rm -rf setup*\n"
      ],
      "execution_count": null,
      "outputs": []
    },
    {
      "cell_type": "code",
      "metadata": {
        "id": "-JwsGSae6D2O"
      },
      "source": [
        "!pip install absl-py==0.9.0\n",
        "!pip install astunparse==1.6.3\n",
        "!pip install cachetools==4.1.1\n",
        "!pip install certifi==2020.6.20\n",
        "!pip install chardet==3.0.4\n",
        "!pip install cycler==0.10.0\n",
        "!pip install decorator==4.4.2\n",
        "!pip install django==3.0.8\n",
        "!pip install filelock==3.0.12\n",
        "!pip install future==0.18.2\n",
        "!pip install gast==0.3.3\n",
        "!pip install gdown==3.11.1\n",
        "!pip install gluoncv==0.7.0\n",
        "!pip install google-auth==1.18.0\n",
        "!pip install google-auth-oauthlib==0.4.1\n",
        "!pip install google-pasta==0.2.0\n",
        "!pip install graphviz==0.8.4\n",
        "!pip install grpcio==1.30.0\n",
        "!pip install h5py==2.10.0\n",
        "!pip install idna==2.10\n",
        "!pip install imageio==2.9.0\n",
        "!pip install Keras-Preprocessing==1.1.2\n",
        "!pip install kiwisolver==1.2.0 \n",
        "!pip install Markdown==3.2.2\n",
        "!pip install matplotlib==3.2.2\n",
        "!pip install mxnet==1.6.0\n",
        "!pip install networkx==2.4\n",
        "!pip install numpy==1.19.0\n",
        "!pip install oauthlib==3.1.0\n",
        "!pip install opencv-python==4.3.0.36\n",
        "!pip install opt-einsum==3.2.1\n",
        "!pip install Pillow==7.2.0\n",
        "!pip install portalocker==1.7.0 \n",
        "!pip install protobuf==3.12.2\n",
        "!pip install pyasn1==0.4.8\n",
        "!pip install pyasn1-modules==0.2.8\n",
        "!pip install pyparsing==2.4.7\n",
        "!pip install PySocks==1.7.1\n",
        "!pip install python-dateutil==2.8.1\n",
        "!pip install PyWavelets==1.1.1\n",
        "!pip install requests==2.24.0\n",
        "!pip install requests-oauthlib==1.3.0\n",
        "!pip install rsa==4.6\n",
        "!pip install scikit-image==0.17.2\n",
        "!pip install scipy==1.4.1\n",
        "!pip install six==1.15.0\n",
        "!pip install tensorboard==2.2.2\n",
        "!pip install tensorboard-plugin-wit==1.7.0\n",
        "!pip install tensorflow==2.2.1\n",
        "!pip install tensorflow-estimator==2.2.0\n",
        "!pip install termcolor==1.1.0\n",
        "!pip install tifffile==2020.7.4\n",
        "!pip install torch==1.5.1\n",
        "!pip install tqdm==4.47.0\n",
        "!pip install urllib3==1.25.9\n",
        "!pip install Werkzeug==1.0.1\n",
        "!pip install wrapt==1.12.1"
      ],
      "execution_count": null,
      "outputs": []
    },
    {
      "cell_type": "code",
      "metadata": {
        "id": "ddInaSbQ9yZ0"
      },
      "source": [
        ""
      ],
      "execution_count": null,
      "outputs": []
    }
  ]
}