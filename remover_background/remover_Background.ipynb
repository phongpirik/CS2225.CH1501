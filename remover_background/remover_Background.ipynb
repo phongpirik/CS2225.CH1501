{
  "nbformat": 4,
  "nbformat_minor": 0,
  "metadata": {
    "colab": {
      "name": "remover_Background.ipynb",
      "provenance": [],
      "collapsed_sections": [],
      "authorship_tag": "ABX9TyOGtJSKno2sPjuTHkyKRWLX",
      "include_colab_link": true
    },
    "kernelspec": {
      "name": "python3",
      "display_name": "Python 3"
    },
    "accelerator": "GPU"
  },
  "cells": [
    {
      "cell_type": "markdown",
      "metadata": {
        "id": "view-in-github",
        "colab_type": "text"
      },
      "source": [
        "<a href=\"https://colab.research.google.com/github/phongpirik/CS2225.CH1501/blob/tungnqd/remover_background/remover_Background.ipynb\" target=\"_parent\"><img src=\"https://colab.research.google.com/assets/colab-badge.svg\" alt=\"Open In Colab\"/></a>"
      ]
    },
    {
      "cell_type": "markdown",
      "metadata": {
        "id": "zHhfNTGK9nCm"
      },
      "source": [
        "# Setup"
      ]
    },
    {
      "cell_type": "code",
      "metadata": {
        "id": "-TZzvb-KoAPp",
        "colab": {
          "base_uri": "https://localhost:8080/"
        },
        "outputId": "53ed2def-867b-4ccb-807f-50c04ee8331b"
      },
      "source": [
        "!pip install PyDrive\n",
        "\n",
        "from pydrive.auth import GoogleAuth\n",
        "from pydrive.drive import GoogleDrive\n",
        "from google.colab import auth\n",
        "from oauth2client.client import GoogleCredentials"
      ],
      "execution_count": 15,
      "outputs": [
        {
          "output_type": "stream",
          "text": [
            "Requirement already satisfied: PyDrive in /usr/local/lib/python3.6/dist-packages (1.3.1)\n",
            "Requirement already satisfied: google-api-python-client>=1.2 in /usr/local/lib/python3.6/dist-packages (from PyDrive) (1.7.12)\n",
            "Requirement already satisfied: oauth2client>=4.0.0 in /usr/local/lib/python3.6/dist-packages (from PyDrive) (4.1.3)\n",
            "Requirement already satisfied: PyYAML>=3.0 in /usr/local/lib/python3.6/dist-packages (from PyDrive) (3.13)\n",
            "Requirement already satisfied: uritemplate<4dev,>=3.0.0 in /usr/local/lib/python3.6/dist-packages (from google-api-python-client>=1.2->PyDrive) (3.0.1)\n",
            "Requirement already satisfied: google-auth>=1.4.1 in /usr/local/lib/python3.6/dist-packages (from google-api-python-client>=1.2->PyDrive) (1.18.0)\n",
            "Requirement already satisfied: google-auth-httplib2>=0.0.3 in /usr/local/lib/python3.6/dist-packages (from google-api-python-client>=1.2->PyDrive) (0.0.4)\n",
            "Requirement already satisfied: six<2dev,>=1.6.1 in /usr/local/lib/python3.6/dist-packages (from google-api-python-client>=1.2->PyDrive) (1.15.0)\n",
            "Requirement already satisfied: httplib2<1dev,>=0.17.0 in /usr/local/lib/python3.6/dist-packages (from google-api-python-client>=1.2->PyDrive) (0.17.4)\n",
            "Requirement already satisfied: pyasn1-modules>=0.0.5 in /usr/local/lib/python3.6/dist-packages (from oauth2client>=4.0.0->PyDrive) (0.2.8)\n",
            "Requirement already satisfied: pyasn1>=0.1.7 in /usr/local/lib/python3.6/dist-packages (from oauth2client>=4.0.0->PyDrive) (0.4.8)\n",
            "Requirement already satisfied: rsa>=3.1.4 in /usr/local/lib/python3.6/dist-packages (from oauth2client>=4.0.0->PyDrive) (4.6)\n",
            "Requirement already satisfied: setuptools>=40.3.0 in /usr/local/lib/python3.6/dist-packages (from google-auth>=1.4.1->google-api-python-client>=1.2->PyDrive) (50.3.2)\n",
            "Requirement already satisfied: cachetools<5.0,>=2.0.0 in /usr/local/lib/python3.6/dist-packages (from google-auth>=1.4.1->google-api-python-client>=1.2->PyDrive) (4.1.1)\n"
          ],
          "name": "stdout"
        }
      ]
    },
    {
      "cell_type": "code",
      "metadata": {
        "id": "5webB-WziTKb",
        "outputId": "c465da7f-8f32-48d1-8f39-b4c2ff018fad",
        "colab": {
          "base_uri": "https://localhost:8080/"
        }
      },
      "source": [
        "# Load the Drive helper and mount\n",
        "from google.colab import drive\n",
        "\n",
        "# This will prompt for authorization.\n",
        "drive.mount('/content/drive')\n",
        "\n",
        "# After executing the cell above, Drive\n",
        "# files will be present in \"/content/drive/My Drive\".\n",
        "!ls \"/content/drive/My Drive\""
      ],
      "execution_count": 16,
      "outputs": [
        {
          "output_type": "stream",
          "text": [
            "Drive already mounted at /content/drive; to attempt to forcibly remount, call drive.mount(\"/content/drive\", force_remount=True).\n",
            " BX_books   'Colab Notebooks'   goodbooks_10k   libs.zip\n",
            " Classroom   gender_detector    goodreads_10M   remover_Background\n"
          ],
          "name": "stdout"
        }
      ]
    },
    {
      "cell_type": "code",
      "metadata": {
        "id": "Z_EJ4c-wmF-3"
      },
      "source": [
        "!pip install -r drive/MyDrive/libs/requirements.txt"
      ],
      "execution_count": null,
      "outputs": []
    },
    {
      "cell_type": "markdown",
      "metadata": {
        "id": "ZETv4AC5jW09"
      },
      "source": [
        "# Remover\n",
        "\n"
      ]
    },
    {
      "cell_type": "code",
      "metadata": {
        "id": "ddInaSbQ9yZ0"
      },
      "source": [
        "import argparse\n",
        "import os\n",
        "import gc\n",
        "import tqdm\n",
        "import logging\n",
        "from libs.strings import *\n",
        "from libs.networks import model_detect\n",
        "import libs.preprocessing as preprocessing\n",
        "import libs.postprocessing as postprocessing\n",
        "\n",
        "logging.basicConfig(level=logging.ERROR)\n",
        "logger = logging.getLogger(__name__)\n",
        "\n",
        "\n",
        "def __work_mode__(path: str):\n",
        "    \"\"\"Determines the desired mode of operation\"\"\"\n",
        "    if os.path.isfile(path):  # Input is file\n",
        "        return \"file\"\n",
        "    if os.path.isdir(path):  # Input is dir\n",
        "        return \"dir\"\n",
        "    else:\n",
        "        return \"no\"\n",
        "\n",
        "\n",
        "def __save_image_file__(img, file_name, output_path, wmode):\n",
        "    \"\"\"\n",
        "    Saves the PIL image to a file\n",
        "    :param img: PIL image\n",
        "    :param file_name: File name\n",
        "    :param output_path: Output path\n",
        "    :param wmode: Work mode\n",
        "    \"\"\"\n",
        "    # create output directory if it doesn't exist\n",
        "    folder = os.path.dirname(output_path)\n",
        "    if folder != '':\n",
        "        os.makedirs(folder, exist_ok=True)\n",
        "    if wmode == \"file\":\n",
        "        file_name_out = os.path.basename(output_path)\n",
        "        if file_name_out == '':\n",
        "            # Change file extension to png\n",
        "            file_name = os.path.splitext(file_name)[0] + '.png'\n",
        "            # Save image\n",
        "            img.save(os.path.join(output_path, file_name))\n",
        "            gc.collect()\n",
        "        else:\n",
        "            try:\n",
        "                # Save image\n",
        "                img.save(output_path)\n",
        "                gc.collect()\n",
        "            except OSError as e:\n",
        "                if str(e) == \"cannot write mode RGBA as JPEG\":\n",
        "                    raise OSError(\"Error! \"\n",
        "                                  \"Please indicate the correct extension of the final file, for example: .png\")\n",
        "                else:\n",
        "                    raise e\n",
        "    else:\n",
        "        # Change file extension to png\n",
        "        file_name = os.path.splitext(file_name)[0] + '.png'\n",
        "        # Save image\n",
        "        img.save(os.path.join(output_path, file_name))\n",
        "        gc.collect()\n",
        "\n",
        "\n",
        "def process(input_path, output_path, model_name=\"u2net\",\n",
        "            preprocessing_method_name=\"bbd-fastrcnn\", postprocessing_method_name=\"rtb-bnb\"):\n",
        "    \"\"\"\n",
        "    Processes the file.\n",
        "    :param input_path: The path to the image / folder with the images to be processed.\n",
        "    :param output_path: The path to the save location.\n",
        "    :param model_name: Model to use.\n",
        "    :param postprocessing_method_name: Method for image preprocessing\n",
        "    :param preprocessing_method_name: Method for image post-processing\n",
        "    \"\"\"\n",
        "    if input_path is None or output_path is None:\n",
        "        raise Exception(\n",
        "            \"Bad parameters! Please specify input path and output path.\")\n",
        "\n",
        "    model = model_detect(model_name)  # Load model\n",
        "    if not model:\n",
        "        logger.warning(\"Warning! You specified an invalid model type. \"\n",
        "                       \"For image processing, the model with the best processing quality will be used. \"\n",
        "                       \"(u2net)\")\n",
        "        # If the model line is wrong, select the model with better quality.\n",
        "        model_name = \"u2net\"\n",
        "        model = model_detect(model_name)  # Load model\n",
        "    preprocessing_method = preprocessing.method_detect(\n",
        "        preprocessing_method_name)\n",
        "    postprocessing_method = postprocessing.method_detect(\n",
        "        postprocessing_method_name)\n",
        "    wmode = __work_mode__(input_path)  # Get work mode\n",
        "    if wmode == \"file\":  # File work mode\n",
        "        image = model.process_image(\n",
        "            input_path, preprocessing_method, postprocessing_method)\n",
        "        __save_image_file__(image, os.path.basename(\n",
        "            input_path), output_path, wmode)\n",
        "    elif wmode == \"dir\":  # Dir work mode\n",
        "        # Start process\n",
        "        files = os.listdir(input_path)\n",
        "        for file in tqdm.tqdm(files, ascii=True, desc='Remove Background', unit='image'):\n",
        "            file_path = os.path.join(input_path, file)\n",
        "            image = model.process_image(\n",
        "                file_path, preprocessing_method, postprocessing_method)\n",
        "            __save_image_file__(image, file, output_path, wmode)\n",
        "    else:\n",
        "        raise Exception(\n",
        "            \"Bad input parameter! Please indicate the correct path to the file or folder.\")\n"
      ],
      "execution_count": null,
      "outputs": []
    },
    {
      "cell_type": "code",
      "metadata": {
        "id": "241zGVB3jd2O"
      },
      "source": [
        ""
      ],
      "execution_count": null,
      "outputs": []
    }
  ]
}