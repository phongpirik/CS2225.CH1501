{
  "nbformat": 4,
  "nbformat_minor": 0,
  "metadata": {
    "colab": {
      "name": "remover_Background.ipynb",
      "provenance": [],
      "collapsed_sections": [],
      "toc_visible": true,
      "authorship_tag": "ABX9TyM1vhsH0T4PwQzSgJo9ii2Q",
      "include_colab_link": true
    },
    "kernelspec": {
      "name": "python3",
      "display_name": "Python 3"
    }
  },
  "cells": [
    {
      "cell_type": "markdown",
      "metadata": {
        "id": "view-in-github",
        "colab_type": "text"
      },
      "source": [
        "<a href=\"https://colab.research.google.com/github/phongpirik/CS2225.CH1501/blob/tungnqd/remover_background/remover_Background.ipynb\" target=\"_parent\"><img src=\"https://colab.research.google.com/assets/colab-badge.svg\" alt=\"Open In Colab\"/></a>"
      ]
    },
    {
      "cell_type": "markdown",
      "metadata": {
        "id": "zHhfNTGK9nCm"
      },
      "source": [
        "# Setup"
      ]
    },
    {
      "cell_type": "code",
      "metadata": {
        "id": "T6CA8e5YjzEu",
        "outputId": "f66ac81c-ede7-48b9-fc07-cf6339116cac",
        "colab": {
          "base_uri": "https://localhost:8080/",
          "height": 1000
        }
      },
      "source": [
        "!pip install absl-py==0.9.0\n",
        "!pip install astunparse==1.6.3\n",
        "!pip install cachetools==4.1.1\n",
        "!pip install certifi==2020.6.20\n",
        "!pip install chardet==3.0.4\n",
        "!pip install cycler==0.10.0\n",
        "!pip install decorator==4.4.2\n",
        "!pip install django==3.0.8\n",
        "!pip install filelock==3.0.12\n",
        "!pip install future==0.18.2\n",
        "!pip install gast==0.3.3\n",
        "!pip install gdown==3.11.1\n",
        "!pip install gluoncv==0.7.0\n",
        "!pip install google-auth==1.18.0\n",
        "!pip install google-auth-oauthlib==0.4.1\n",
        "!pip install google-pasta==0.2.0\n",
        "!pip install graphviz==0.8.4\n",
        "!pip install grpcio==1.30.0\n",
        "!pip install h5py==2.10.0\n",
        "!pip install idna==2.10\n",
        "!pip install imageio==2.9.0\n",
        "!pip install Keras-Preprocessing==1.1.2\n",
        "!pip install kiwisolver==1.2.0 \n",
        "!pip install Markdown==3.2.2\n",
        "!pip install matplotlib==3.2.2\n",
        "!pip install mxnet==1.6.0\n",
        "!pip install networkx==2.4\n",
        "!pip install numpy==1.19.0\n",
        "!pip install oauthlib==3.1.0\n",
        "!pip install opencv-python==4.3.0.36\n",
        "!pip install opt-einsum==3.2.1\n",
        "!pip install Pillow==7.2.0\n",
        "!pip install portalocker==1.7.0 \n",
        "!pip install protobuf==3.12.2\n",
        "!pip install pyasn1==0.4.8\n",
        "!pip install pyasn1-modules==0.2.8\n",
        "!pip install pyparsing==2.4.7\n",
        "!pip install PySocks==1.7.1\n",
        "!pip install python-dateutil==2.8.1\n",
        "!pip install PyWavelets==1.1.1\n",
        "!pip install requests==2.24.0\n",
        "!pip install requests-oauthlib==1.3.0\n",
        "!pip install rsa==4.6\n",
        "!pip install scikit-image==0.17.2\n",
        "!pip install scipy==1.4.1\n",
        "!pip install six==1.15.0\n",
        "!pip install tensorboard==2.2.2\n",
        "!pip install tensorboard-plugin-wit==1.7.0\n",
        "!pip install tensorflow==2.2.1\n",
        "!pip install tensorflow-estimator==2.2.0\n",
        "!pip install termcolor==1.1.0\n",
        "!pip install tifffile==2020.7.4\n",
        "!pip install torch==1.5.1\n",
        "!pip install tqdm==4.47.0\n",
        "!pip install urllib3==1.25.9\n",
        "!pip install Werkzeug==1.0.1\n",
        "!pip install wrapt==1.12.1"
      ],
      "execution_count": null,
      "outputs": [
        {
          "output_type": "stream",
          "text": [
            "Collecting absl-py==0.9.0\n",
            "\u001b[?25l  Downloading https://files.pythonhosted.org/packages/1a/53/9243c600e047bd4c3df9e69cfabc1e8004a82cac2e0c484580a78a94ba2a/absl-py-0.9.0.tar.gz (104kB)\n",
            "\r\u001b[K     |███▏                            | 10kB 15.0MB/s eta 0:00:01\r\u001b[K     |██████▎                         | 20kB 21.5MB/s eta 0:00:01\r\u001b[K     |█████████▌                      | 30kB 25.0MB/s eta 0:00:01\r\u001b[K     |████████████▋                   | 40kB 13.6MB/s eta 0:00:01\r\u001b[K     |███████████████▊                | 51kB 13.6MB/s eta 0:00:01\r\u001b[K     |███████████████████             | 61kB 14.0MB/s eta 0:00:01\r\u001b[K     |██████████████████████          | 71kB 10.0MB/s eta 0:00:01\r\u001b[K     |█████████████████████████▏      | 81kB 11.1MB/s eta 0:00:01\r\u001b[K     |████████████████████████████▍   | 92kB 9.9MB/s eta 0:00:01\r\u001b[K     |███████████████████████████████▌| 102kB 10.7MB/s eta 0:00:01\r\u001b[K     |████████████████████████████████| 112kB 10.7MB/s \n",
            "\u001b[?25hRequirement already satisfied: six in /usr/local/lib/python3.6/dist-packages (from absl-py==0.9.0) (1.15.0)\n",
            "Building wheels for collected packages: absl-py\n",
            "  Building wheel for absl-py (setup.py) ... \u001b[?25l\u001b[?25hdone\n",
            "  Created wheel for absl-py: filename=absl_py-0.9.0-cp36-none-any.whl size=121933 sha256=1eda9fe805ed35263ecb80c9cb2cf1db681a7f8e16631f599f3227b566d674ea\n",
            "  Stored in directory: /root/.cache/pip/wheels/8e/28/49/fad4e7f0b9a1227708cbbee4487ac8558a7334849cb81c813d\n",
            "Successfully built absl-py\n",
            "Installing collected packages: absl-py\n",
            "  Found existing installation: absl-py 0.10.0\n",
            "    Uninstalling absl-py-0.10.0:\n",
            "      Successfully uninstalled absl-py-0.10.0\n",
            "Successfully installed absl-py-0.9.0\n",
            "Requirement already satisfied: astunparse==1.6.3 in /usr/local/lib/python3.6/dist-packages (1.6.3)\n",
            "Requirement already satisfied: six<2.0,>=1.6.1 in /usr/local/lib/python3.6/dist-packages (from astunparse==1.6.3) (1.15.0)\n",
            "Requirement already satisfied: wheel<1.0,>=0.23.0 in /usr/local/lib/python3.6/dist-packages (from astunparse==1.6.3) (0.35.1)\n",
            "Requirement already satisfied: cachetools==4.1.1 in /usr/local/lib/python3.6/dist-packages (4.1.1)\n",
            "Requirement already satisfied: certifi==2020.6.20 in /usr/local/lib/python3.6/dist-packages (2020.6.20)\n",
            "Requirement already satisfied: chardet==3.0.4 in /usr/local/lib/python3.6/dist-packages (3.0.4)\n",
            "Requirement already satisfied: cycler==0.10.0 in /usr/local/lib/python3.6/dist-packages (0.10.0)\n",
            "Requirement already satisfied: six in /usr/local/lib/python3.6/dist-packages (from cycler==0.10.0) (1.15.0)\n",
            "Requirement already satisfied: decorator==4.4.2 in /usr/local/lib/python3.6/dist-packages (4.4.2)\n",
            "Collecting django==3.0.8\n",
            "\u001b[?25l  Downloading https://files.pythonhosted.org/packages/ca/ab/5e004afa025a6fb640c6e983d4983e6507421ff01be224da79ab7de7a21f/Django-3.0.8-py3-none-any.whl (7.5MB)\n",
            "\u001b[K     |████████████████████████████████| 7.5MB 11.5MB/s \n",
            "\u001b[?25hRequirement already satisfied: sqlparse>=0.2.2 in /usr/local/lib/python3.6/dist-packages (from django==3.0.8) (0.4.1)\n",
            "Requirement already satisfied: pytz in /usr/local/lib/python3.6/dist-packages (from django==3.0.8) (2018.9)\n",
            "Requirement already satisfied: asgiref~=3.2 in /usr/local/lib/python3.6/dist-packages (from django==3.0.8) (3.3.0)\n",
            "Installing collected packages: django\n",
            "  Found existing installation: Django 3.1.3\n",
            "    Uninstalling Django-3.1.3:\n",
            "      Successfully uninstalled Django-3.1.3\n",
            "Successfully installed django-3.0.8\n",
            "Requirement already satisfied: filelock==3.0.12 in /usr/local/lib/python3.6/dist-packages (3.0.12)\n",
            "Collecting future==0.18.2\n",
            "\u001b[?25l  Downloading https://files.pythonhosted.org/packages/45/0b/38b06fd9b92dc2b68d58b75f900e97884c45bedd2ff83203d933cf5851c9/future-0.18.2.tar.gz (829kB)\n",
            "\u001b[K     |████████████████████████████████| 829kB 11.7MB/s \n",
            "\u001b[?25hBuilding wheels for collected packages: future\n",
            "  Building wheel for future (setup.py) ... \u001b[?25l\u001b[?25hdone\n",
            "  Created wheel for future: filename=future-0.18.2-cp36-none-any.whl size=491057 sha256=b3d5fc0b2f78fbdf1895c65b1184c1050b6861ed9a9e7d61e06a60626ecdf3ad\n",
            "  Stored in directory: /root/.cache/pip/wheels/8b/99/a0/81daf51dcd359a9377b110a8a886b3895921802d2fc1b2397e\n",
            "Successfully built future\n",
            "Installing collected packages: future\n",
            "  Found existing installation: future 0.16.0\n",
            "    Uninstalling future-0.16.0:\n",
            "      Successfully uninstalled future-0.16.0\n",
            "Successfully installed future-0.18.2\n",
            "Requirement already satisfied: gast==0.3.3 in /usr/local/lib/python3.6/dist-packages (0.3.3)\n",
            "Collecting gdown==3.11.1\n",
            "  Downloading https://files.pythonhosted.org/packages/fc/7a/5a892d25b0a105b9d825cdd0c69d2742b83e00f247053f50a7e0a5405439/gdown-3.11.1.tar.gz\n",
            "  Installing build dependencies ... \u001b[?25l\u001b[?25hdone\n",
            "  Getting requirements to build wheel ... \u001b[?25l\u001b[?25hdone\n",
            "    Preparing wheel metadata ... \u001b[?25l\u001b[?25hdone\n",
            "Requirement already satisfied: six in /usr/local/lib/python3.6/dist-packages (from gdown==3.11.1) (1.15.0)\n",
            "Requirement already satisfied: filelock in /usr/local/lib/python3.6/dist-packages (from gdown==3.11.1) (3.0.12)\n",
            "Requirement already satisfied: tqdm in /usr/local/lib/python3.6/dist-packages (from gdown==3.11.1) (4.41.1)\n",
            "Requirement already satisfied: requests[socks] in /usr/local/lib/python3.6/dist-packages (from gdown==3.11.1) (2.23.0)\n",
            "Requirement already satisfied: idna<3,>=2.5 in /usr/local/lib/python3.6/dist-packages (from requests[socks]->gdown==3.11.1) (2.10)\n",
            "Requirement already satisfied: urllib3!=1.25.0,!=1.25.1,<1.26,>=1.21.1 in /usr/local/lib/python3.6/dist-packages (from requests[socks]->gdown==3.11.1) (1.24.3)\n",
            "Requirement already satisfied: chardet<4,>=3.0.2 in /usr/local/lib/python3.6/dist-packages (from requests[socks]->gdown==3.11.1) (3.0.4)\n",
            "Requirement already satisfied: certifi>=2017.4.17 in /usr/local/lib/python3.6/dist-packages (from requests[socks]->gdown==3.11.1) (2020.6.20)\n",
            "Requirement already satisfied: PySocks!=1.5.7,>=1.5.6; extra == \"socks\" in /usr/local/lib/python3.6/dist-packages (from requests[socks]->gdown==3.11.1) (1.7.1)\n",
            "Building wheels for collected packages: gdown\n",
            "  Building wheel for gdown (PEP 517) ... \u001b[?25l\u001b[?25hdone\n",
            "  Created wheel for gdown: filename=gdown-3.11.1-cp36-none-any.whl size=9657 sha256=5d8fdd7ac263b8efa93e257c5fe45b8891da9ba6e8152630713feb2d672d73e5\n",
            "  Stored in directory: /root/.cache/pip/wheels/32/8e/8d/0fec7d933759a0880dc34be487e1d92c51ba8fdf4e9f265ff7\n",
            "Successfully built gdown\n",
            "Installing collected packages: gdown\n",
            "  Found existing installation: gdown 3.12.2\n",
            "    Uninstalling gdown-3.12.2:\n",
            "      Successfully uninstalled gdown-3.12.2\n",
            "Successfully installed gdown-3.11.1\n"
          ],
          "name": "stdout"
        },
        {
          "output_type": "display_data",
          "data": {
            "application/vnd.colab-display-data+json": {
              "pip_warning": {
                "packages": [
                  "gdown"
                ]
              }
            }
          },
          "metadata": {
            "tags": []
          }
        },
        {
          "output_type": "stream",
          "text": [
            "Collecting gluoncv==0.7.0\n",
            "\u001b[?25l  Downloading https://files.pythonhosted.org/packages/fa/81/37a00609cb53da3671adb106b9bc03fb1c029ad5a8db4bc668283e65703d/gluoncv-0.7.0-py2.py3-none-any.whl (752kB)\n",
            "\r\u001b[K     |▍                               | 10kB 18.0MB/s eta 0:00:01\r\u001b[K     |▉                               | 20kB 23.6MB/s eta 0:00:01\r\u001b[K     |█▎                              | 30kB 17.8MB/s eta 0:00:01\r\u001b[K     |█▊                              | 40kB 18.0MB/s eta 0:00:01\r\u001b[K     |██▏                             | 51kB 17.2MB/s eta 0:00:01\r\u001b[K     |██▋                             | 61kB 9.0MB/s eta 0:00:01\r\u001b[K     |███                             | 71kB 10.1MB/s eta 0:00:01\r\u001b[K     |███▌                            | 81kB 11.1MB/s eta 0:00:01\r\u001b[K     |████                            | 92kB 10.4MB/s eta 0:00:01\r\u001b[K     |████▍                           | 102kB 10.5MB/s eta 0:00:01\r\u001b[K     |████▉                           | 112kB 10.5MB/s eta 0:00:01\r\u001b[K     |█████▎                          | 122kB 10.5MB/s eta 0:00:01\r\u001b[K     |█████▋                          | 133kB 10.5MB/s eta 0:00:01\r\u001b[K     |██████                          | 143kB 10.5MB/s eta 0:00:01\r\u001b[K     |██████▌                         | 153kB 10.5MB/s eta 0:00:01\r\u001b[K     |███████                         | 163kB 10.5MB/s eta 0:00:01\r\u001b[K     |███████▍                        | 174kB 10.5MB/s eta 0:00:01\r\u001b[K     |███████▉                        | 184kB 10.5MB/s eta 0:00:01\r\u001b[K     |████████▎                       | 194kB 10.5MB/s eta 0:00:01\r\u001b[K     |████████▊                       | 204kB 10.5MB/s eta 0:00:01\r\u001b[K     |█████████▏                      | 215kB 10.5MB/s eta 0:00:01\r\u001b[K     |█████████▋                      | 225kB 10.5MB/s eta 0:00:01\r\u001b[K     |██████████                      | 235kB 10.5MB/s eta 0:00:01\r\u001b[K     |██████████▌                     | 245kB 10.5MB/s eta 0:00:01\r\u001b[K     |██████████▉                     | 256kB 10.5MB/s eta 0:00:01\r\u001b[K     |███████████▎                    | 266kB 10.5MB/s eta 0:00:01\r\u001b[K     |███████████▊                    | 276kB 10.5MB/s eta 0:00:01\r\u001b[K     |████████████▏                   | 286kB 10.5MB/s eta 0:00:01\r\u001b[K     |████████████▋                   | 296kB 10.5MB/s eta 0:00:01\r\u001b[K     |█████████████                   | 307kB 10.5MB/s eta 0:00:01\r\u001b[K     |█████████████▌                  | 317kB 10.5MB/s eta 0:00:01\r\u001b[K     |██████████████                  | 327kB 10.5MB/s eta 0:00:01\r\u001b[K     |██████████████▍                 | 337kB 10.5MB/s eta 0:00:01\r\u001b[K     |██████████████▉                 | 348kB 10.5MB/s eta 0:00:01\r\u001b[K     |███████████████▎                | 358kB 10.5MB/s eta 0:00:01\r\u001b[K     |███████████████▊                | 368kB 10.5MB/s eta 0:00:01\r\u001b[K     |████████████████▏               | 378kB 10.5MB/s eta 0:00:01\r\u001b[K     |████████████████▌               | 389kB 10.5MB/s eta 0:00:01\r\u001b[K     |█████████████████               | 399kB 10.5MB/s eta 0:00:01\r\u001b[K     |█████████████████▍              | 409kB 10.5MB/s eta 0:00:01\r\u001b[K     |█████████████████▉              | 419kB 10.5MB/s eta 0:00:01\r\u001b[K     |██████████████████▎             | 430kB 10.5MB/s eta 0:00:01\r\u001b[K     |██████████████████▊             | 440kB 10.5MB/s eta 0:00:01\r\u001b[K     |███████████████████▏            | 450kB 10.5MB/s eta 0:00:01\r\u001b[K     |███████████████████▋            | 460kB 10.5MB/s eta 0:00:01\r\u001b[K     |████████████████████            | 471kB 10.5MB/s eta 0:00:01\r\u001b[K     |████████████████████▌           | 481kB 10.5MB/s eta 0:00:01\r\u001b[K     |█████████████████████           | 491kB 10.5MB/s eta 0:00:01\r\u001b[K     |█████████████████████▍          | 501kB 10.5MB/s eta 0:00:01\r\u001b[K     |█████████████████████▊          | 512kB 10.5MB/s eta 0:00:01\r\u001b[K     |██████████████████████▏         | 522kB 10.5MB/s eta 0:00:01\r\u001b[K     |██████████████████████▋         | 532kB 10.5MB/s eta 0:00:01\r\u001b[K     |███████████████████████         | 542kB 10.5MB/s eta 0:00:01\r\u001b[K     |███████████████████████▌        | 552kB 10.5MB/s eta 0:00:01\r\u001b[K     |████████████████████████        | 563kB 10.5MB/s eta 0:00:01\r\u001b[K     |████████████████████████▍       | 573kB 10.5MB/s eta 0:00:01\r\u001b[K     |████████████████████████▉       | 583kB 10.5MB/s eta 0:00:01\r\u001b[K     |█████████████████████████▎      | 593kB 10.5MB/s eta 0:00:01\r\u001b[K     |█████████████████████████▊      | 604kB 10.5MB/s eta 0:00:01\r\u001b[K     |██████████████████████████▏     | 614kB 10.5MB/s eta 0:00:01\r\u001b[K     |██████████████████████████▋     | 624kB 10.5MB/s eta 0:00:01\r\u001b[K     |███████████████████████████     | 634kB 10.5MB/s eta 0:00:01\r\u001b[K     |███████████████████████████▍    | 645kB 10.5MB/s eta 0:00:01\r\u001b[K     |███████████████████████████▉    | 655kB 10.5MB/s eta 0:00:01\r\u001b[K     |████████████████████████████▎   | 665kB 10.5MB/s eta 0:00:01\r\u001b[K     |████████████████████████████▊   | 675kB 10.5MB/s eta 0:00:01\r\u001b[K     |█████████████████████████████▏  | 686kB 10.5MB/s eta 0:00:01\r\u001b[K     |█████████████████████████████▋  | 696kB 10.5MB/s eta 0:00:01\r\u001b[K     |██████████████████████████████  | 706kB 10.5MB/s eta 0:00:01\r\u001b[K     |██████████████████████████████▌ | 716kB 10.5MB/s eta 0:00:01\r\u001b[K     |███████████████████████████████ | 727kB 10.5MB/s eta 0:00:01\r\u001b[K     |███████████████████████████████▍| 737kB 10.5MB/s eta 0:00:01\r\u001b[K     |███████████████████████████████▉| 747kB 10.5MB/s eta 0:00:01\r\u001b[K     |████████████████████████████████| 757kB 10.5MB/s \n",
            "\u001b[?25hRequirement already satisfied: requests in /usr/local/lib/python3.6/dist-packages (from gluoncv==0.7.0) (2.23.0)\n",
            "Requirement already satisfied: scipy in /usr/local/lib/python3.6/dist-packages (from gluoncv==0.7.0) (1.4.1)\n",
            "Collecting portalocker\n",
            "  Downloading https://files.pythonhosted.org/packages/89/a6/3814b7107e0788040870e8825eebf214d72166adf656ba7d4bf14759a06a/portalocker-2.0.0-py2.py3-none-any.whl\n",
            "Requirement already satisfied: numpy in /usr/local/lib/python3.6/dist-packages (from gluoncv==0.7.0) (1.18.5)\n",
            "Requirement already satisfied: tqdm in /usr/local/lib/python3.6/dist-packages (from gluoncv==0.7.0) (4.41.1)\n",
            "Requirement already satisfied: matplotlib in /usr/local/lib/python3.6/dist-packages (from gluoncv==0.7.0) (3.2.2)\n",
            "Requirement already satisfied: Pillow in /usr/local/lib/python3.6/dist-packages (from gluoncv==0.7.0) (7.0.0)\n",
            "Requirement already satisfied: certifi>=2017.4.17 in /usr/local/lib/python3.6/dist-packages (from requests->gluoncv==0.7.0) (2020.6.20)\n",
            "Requirement already satisfied: urllib3!=1.25.0,!=1.25.1,<1.26,>=1.21.1 in /usr/local/lib/python3.6/dist-packages (from requests->gluoncv==0.7.0) (1.24.3)\n",
            "Requirement already satisfied: chardet<4,>=3.0.2 in /usr/local/lib/python3.6/dist-packages (from requests->gluoncv==0.7.0) (3.0.4)\n",
            "Requirement already satisfied: idna<3,>=2.5 in /usr/local/lib/python3.6/dist-packages (from requests->gluoncv==0.7.0) (2.10)\n",
            "Requirement already satisfied: pyparsing!=2.0.4,!=2.1.2,!=2.1.6,>=2.0.1 in /usr/local/lib/python3.6/dist-packages (from matplotlib->gluoncv==0.7.0) (2.4.7)\n",
            "Requirement already satisfied: cycler>=0.10 in /usr/local/lib/python3.6/dist-packages (from matplotlib->gluoncv==0.7.0) (0.10.0)\n",
            "Requirement already satisfied: python-dateutil>=2.1 in /usr/local/lib/python3.6/dist-packages (from matplotlib->gluoncv==0.7.0) (2.8.1)\n",
            "Requirement already satisfied: kiwisolver>=1.0.1 in /usr/local/lib/python3.6/dist-packages (from matplotlib->gluoncv==0.7.0) (1.3.1)\n",
            "Requirement already satisfied: six in /usr/local/lib/python3.6/dist-packages (from cycler>=0.10->matplotlib->gluoncv==0.7.0) (1.15.0)\n",
            "Installing collected packages: portalocker, gluoncv\n",
            "Successfully installed gluoncv-0.7.0 portalocker-2.0.0\n",
            "Collecting google-auth==1.18.0\n",
            "\u001b[?25l  Downloading https://files.pythonhosted.org/packages/21/57/d706964a7e4056f3f2244e16705388c11631fbb53d3e2d2a2d0fbc24d470/google_auth-1.18.0-py2.py3-none-any.whl (90kB)\n",
            "\u001b[K     |████████████████████████████████| 92kB 5.5MB/s \n",
            "\u001b[?25hRequirement already satisfied: pyasn1-modules>=0.2.1 in /usr/local/lib/python3.6/dist-packages (from google-auth==1.18.0) (0.2.8)\n",
            "Requirement already satisfied: six>=1.9.0 in /usr/local/lib/python3.6/dist-packages (from google-auth==1.18.0) (1.15.0)\n",
            "Requirement already satisfied: cachetools<5.0,>=2.0.0 in /usr/local/lib/python3.6/dist-packages (from google-auth==1.18.0) (4.1.1)\n",
            "Requirement already satisfied: rsa<5,>=3.1.4; python_version >= \"3\" in /usr/local/lib/python3.6/dist-packages (from google-auth==1.18.0) (4.6)\n",
            "Requirement already satisfied: setuptools>=40.3.0 in /usr/local/lib/python3.6/dist-packages (from google-auth==1.18.0) (50.3.2)\n",
            "Requirement already satisfied: pyasn1<0.5.0,>=0.4.6 in /usr/local/lib/python3.6/dist-packages (from pyasn1-modules>=0.2.1->google-auth==1.18.0) (0.4.8)\n",
            "\u001b[31mERROR: google-colab 1.0.0 has requirement google-auth~=1.17.2, but you'll have google-auth 1.18.0 which is incompatible.\u001b[0m\n",
            "Installing collected packages: google-auth\n",
            "  Found existing installation: google-auth 1.17.2\n",
            "    Uninstalling google-auth-1.17.2:\n",
            "      Successfully uninstalled google-auth-1.17.2\n",
            "Successfully installed google-auth-1.18.0\n"
          ],
          "name": "stdout"
        },
        {
          "output_type": "display_data",
          "data": {
            "application/vnd.colab-display-data+json": {
              "pip_warning": {
                "packages": [
                  "google"
                ]
              }
            }
          },
          "metadata": {
            "tags": []
          }
        },
        {
          "output_type": "stream",
          "text": [
            "Collecting google-auth-oauthlib==0.4.1\n",
            "  Downloading https://files.pythonhosted.org/packages/7b/b8/88def36e74bee9fce511c9519571f4e485e890093ab7442284f4ffaef60b/google_auth_oauthlib-0.4.1-py2.py3-none-any.whl\n",
            "Requirement already satisfied: requests-oauthlib>=0.7.0 in /usr/local/lib/python3.6/dist-packages (from google-auth-oauthlib==0.4.1) (1.3.0)\n",
            "Requirement already satisfied: google-auth in /usr/local/lib/python3.6/dist-packages (from google-auth-oauthlib==0.4.1) (1.18.0)\n",
            "Requirement already satisfied: oauthlib>=3.0.0 in /usr/local/lib/python3.6/dist-packages (from requests-oauthlib>=0.7.0->google-auth-oauthlib==0.4.1) (3.1.0)\n",
            "Requirement already satisfied: requests>=2.0.0 in /usr/local/lib/python3.6/dist-packages (from requests-oauthlib>=0.7.0->google-auth-oauthlib==0.4.1) (2.23.0)\n",
            "Requirement already satisfied: cachetools<5.0,>=2.0.0 in /usr/local/lib/python3.6/dist-packages (from google-auth->google-auth-oauthlib==0.4.1) (4.1.1)\n",
            "Requirement already satisfied: six>=1.9.0 in /usr/local/lib/python3.6/dist-packages (from google-auth->google-auth-oauthlib==0.4.1) (1.15.0)\n",
            "Requirement already satisfied: pyasn1-modules>=0.2.1 in /usr/local/lib/python3.6/dist-packages (from google-auth->google-auth-oauthlib==0.4.1) (0.2.8)\n",
            "Requirement already satisfied: setuptools>=40.3.0 in /usr/local/lib/python3.6/dist-packages (from google-auth->google-auth-oauthlib==0.4.1) (50.3.2)\n",
            "Requirement already satisfied: rsa<5,>=3.1.4; python_version >= \"3\" in /usr/local/lib/python3.6/dist-packages (from google-auth->google-auth-oauthlib==0.4.1) (4.6)\n",
            "Requirement already satisfied: chardet<4,>=3.0.2 in /usr/local/lib/python3.6/dist-packages (from requests>=2.0.0->requests-oauthlib>=0.7.0->google-auth-oauthlib==0.4.1) (3.0.4)\n",
            "Requirement already satisfied: idna<3,>=2.5 in /usr/local/lib/python3.6/dist-packages (from requests>=2.0.0->requests-oauthlib>=0.7.0->google-auth-oauthlib==0.4.1) (2.10)\n",
            "Requirement already satisfied: certifi>=2017.4.17 in /usr/local/lib/python3.6/dist-packages (from requests>=2.0.0->requests-oauthlib>=0.7.0->google-auth-oauthlib==0.4.1) (2020.6.20)\n",
            "Requirement already satisfied: urllib3!=1.25.0,!=1.25.1,<1.26,>=1.21.1 in /usr/local/lib/python3.6/dist-packages (from requests>=2.0.0->requests-oauthlib>=0.7.0->google-auth-oauthlib==0.4.1) (1.24.3)\n",
            "Requirement already satisfied: pyasn1<0.5.0,>=0.4.6 in /usr/local/lib/python3.6/dist-packages (from pyasn1-modules>=0.2.1->google-auth->google-auth-oauthlib==0.4.1) (0.4.8)\n",
            "Installing collected packages: google-auth-oauthlib\n",
            "  Found existing installation: google-auth-oauthlib 0.4.2\n",
            "    Uninstalling google-auth-oauthlib-0.4.2:\n",
            "      Successfully uninstalled google-auth-oauthlib-0.4.2\n",
            "Successfully installed google-auth-oauthlib-0.4.1\n",
            "Requirement already satisfied: google-pasta==0.2.0 in /usr/local/lib/python3.6/dist-packages (0.2.0)\n",
            "Requirement already satisfied: six in /usr/local/lib/python3.6/dist-packages (from google-pasta==0.2.0) (1.15.0)\n",
            "Collecting graphviz==0.8.4\n",
            "  Downloading https://files.pythonhosted.org/packages/53/39/4ab213673844e0c004bed8a0781a0721a3f6bb23eb8854ee75c236428892/graphviz-0.8.4-py2.py3-none-any.whl\n",
            "Installing collected packages: graphviz\n",
            "  Found existing installation: graphviz 0.10.1\n",
            "    Uninstalling graphviz-0.10.1:\n",
            "      Successfully uninstalled graphviz-0.10.1\n",
            "Successfully installed graphviz-0.8.4\n",
            "Collecting grpcio==1.30.0\n",
            "\u001b[?25l  Downloading https://files.pythonhosted.org/packages/5a/42/262913f967217874ae66734b52077833e2153b7b3a55a45bf996c7ee4833/grpcio-1.30.0-cp36-cp36m-manylinux2010_x86_64.whl (3.0MB)\n",
            "\u001b[K     |████████████████████████████████| 3.0MB 11.8MB/s \n",
            "\u001b[?25hRequirement already satisfied: six>=1.5.2 in /usr/local/lib/python3.6/dist-packages (from grpcio==1.30.0) (1.15.0)\n",
            "Installing collected packages: grpcio\n",
            "  Found existing installation: grpcio 1.33.2\n",
            "    Uninstalling grpcio-1.33.2:\n",
            "      Successfully uninstalled grpcio-1.33.2\n",
            "Successfully installed grpcio-1.30.0\n",
            "Requirement already satisfied: h5py==2.10.0 in /usr/local/lib/python3.6/dist-packages (2.10.0)\n",
            "Requirement already satisfied: numpy>=1.7 in /usr/local/lib/python3.6/dist-packages (from h5py==2.10.0) (1.18.5)\n",
            "Requirement already satisfied: six in /usr/local/lib/python3.6/dist-packages (from h5py==2.10.0) (1.15.0)\n",
            "Requirement already satisfied: idna==2.10 in /usr/local/lib/python3.6/dist-packages (2.10)\n",
            "Collecting imageio==2.9.0\n",
            "\u001b[?25l  Downloading https://files.pythonhosted.org/packages/6e/57/5d899fae74c1752f52869b613a8210a2480e1a69688e65df6cb26117d45d/imageio-2.9.0-py3-none-any.whl (3.3MB)\n",
            "\u001b[K     |████████████████████████████████| 3.3MB 11.6MB/s \n",
            "\u001b[?25hRequirement already satisfied: pillow in /usr/local/lib/python3.6/dist-packages (from imageio==2.9.0) (7.0.0)\n",
            "Requirement already satisfied: numpy in /usr/local/lib/python3.6/dist-packages (from imageio==2.9.0) (1.18.5)\n",
            "\u001b[31mERROR: albumentations 0.1.12 has requirement imgaug<0.2.7,>=0.2.5, but you'll have imgaug 0.2.9 which is incompatible.\u001b[0m\n",
            "Installing collected packages: imageio\n",
            "  Found existing installation: imageio 2.4.1\n",
            "    Uninstalling imageio-2.4.1:\n",
            "      Successfully uninstalled imageio-2.4.1\n",
            "Successfully installed imageio-2.9.0\n",
            "Requirement already satisfied: Keras-Preprocessing==1.1.2 in /usr/local/lib/python3.6/dist-packages (1.1.2)\n",
            "Requirement already satisfied: numpy>=1.9.1 in /usr/local/lib/python3.6/dist-packages (from Keras-Preprocessing==1.1.2) (1.18.5)\n",
            "Requirement already satisfied: six>=1.9.0 in /usr/local/lib/python3.6/dist-packages (from Keras-Preprocessing==1.1.2) (1.15.0)\n",
            "Collecting kiwisolver==1.2.0\n",
            "\u001b[?25l  Downloading https://files.pythonhosted.org/packages/ae/23/147de658aabbf968324551ea22c0c13a00284c4ef49a77002e91f79657b7/kiwisolver-1.2.0-cp36-cp36m-manylinux1_x86_64.whl (88kB)\n",
            "\u001b[K     |████████████████████████████████| 92kB 5.6MB/s \n",
            "\u001b[31mERROR: albumentations 0.1.12 has requirement imgaug<0.2.7,>=0.2.5, but you'll have imgaug 0.2.9 which is incompatible.\u001b[0m\n",
            "\u001b[?25hInstalling collected packages: kiwisolver\n",
            "  Found existing installation: kiwisolver 1.3.1\n",
            "    Uninstalling kiwisolver-1.3.1:\n",
            "      Successfully uninstalled kiwisolver-1.3.1\n",
            "Successfully installed kiwisolver-1.2.0\n"
          ],
          "name": "stdout"
        },
        {
          "output_type": "display_data",
          "data": {
            "application/vnd.colab-display-data+json": {
              "pip_warning": {
                "packages": [
                  "kiwisolver"
                ]
              }
            }
          },
          "metadata": {
            "tags": []
          }
        },
        {
          "output_type": "stream",
          "text": [
            "Collecting Markdown==3.2.2\n",
            "\u001b[?25l  Downloading https://files.pythonhosted.org/packages/a4/63/eaec2bd025ab48c754b55e8819af0f6a69e2b1e187611dd40cbbe101ee7f/Markdown-3.2.2-py3-none-any.whl (88kB)\n",
            "\r\u001b[K     |███▊                            | 10kB 16.2MB/s eta 0:00:01\r\u001b[K     |███████▍                        | 20kB 22.0MB/s eta 0:00:01\r\u001b[K     |███████████                     | 30kB 17.0MB/s eta 0:00:01\r\u001b[K     |██████████████▊                 | 40kB 12.7MB/s eta 0:00:01\r\u001b[K     |██████████████████▍             | 51kB 14.8MB/s eta 0:00:01\r\u001b[K     |██████████████████████          | 61kB 16.2MB/s eta 0:00:01\r\u001b[K     |█████████████████████████▉      | 71kB 12.0MB/s eta 0:00:01\r\u001b[K     |█████████████████████████████▌  | 81kB 13.2MB/s eta 0:00:01\r\u001b[K     |████████████████████████████████| 92kB 6.2MB/s \n",
            "\u001b[?25hRequirement already satisfied: importlib-metadata; python_version < \"3.8\" in /usr/local/lib/python3.6/dist-packages (from Markdown==3.2.2) (2.0.0)\n",
            "Requirement already satisfied: zipp>=0.5 in /usr/local/lib/python3.6/dist-packages (from importlib-metadata; python_version < \"3.8\"->Markdown==3.2.2) (3.4.0)\n",
            "Installing collected packages: Markdown\n",
            "  Found existing installation: Markdown 3.3.3\n",
            "    Uninstalling Markdown-3.3.3:\n",
            "      Successfully uninstalled Markdown-3.3.3\n",
            "Successfully installed Markdown-3.2.2\n",
            "Requirement already satisfied: matplotlib==3.2.2 in /usr/local/lib/python3.6/dist-packages (3.2.2)\n",
            "Requirement already satisfied: pyparsing!=2.0.4,!=2.1.2,!=2.1.6,>=2.0.1 in /usr/local/lib/python3.6/dist-packages (from matplotlib==3.2.2) (2.4.7)\n",
            "Requirement already satisfied: python-dateutil>=2.1 in /usr/local/lib/python3.6/dist-packages (from matplotlib==3.2.2) (2.8.1)\n",
            "Requirement already satisfied: kiwisolver>=1.0.1 in /usr/local/lib/python3.6/dist-packages (from matplotlib==3.2.2) (1.2.0)\n",
            "Requirement already satisfied: cycler>=0.10 in /usr/local/lib/python3.6/dist-packages (from matplotlib==3.2.2) (0.10.0)\n",
            "Requirement already satisfied: numpy>=1.11 in /usr/local/lib/python3.6/dist-packages (from matplotlib==3.2.2) (1.18.5)\n",
            "Requirement already satisfied: six>=1.5 in /usr/local/lib/python3.6/dist-packages (from python-dateutil>=2.1->matplotlib==3.2.2) (1.15.0)\n",
            "Collecting mxnet==1.6.0\n",
            "\u001b[?25l  Downloading https://files.pythonhosted.org/packages/81/f5/d79b5b40735086ff1100c680703e0f3efc830fa455e268e9e96f3c857e93/mxnet-1.6.0-py2.py3-none-any.whl (68.7MB)\n",
            "\u001b[K     |████████████████████████████████| 68.7MB 58kB/s \n",
            "\u001b[?25hRequirement already satisfied: numpy<2.0.0,>1.16.0 in /usr/local/lib/python3.6/dist-packages (from mxnet==1.6.0) (1.18.5)\n",
            "Requirement already satisfied: requests<3,>=2.20.0 in /usr/local/lib/python3.6/dist-packages (from mxnet==1.6.0) (2.23.0)\n",
            "Requirement already satisfied: graphviz<0.9.0,>=0.8.1 in /usr/local/lib/python3.6/dist-packages (from mxnet==1.6.0) (0.8.4)\n",
            "Requirement already satisfied: urllib3!=1.25.0,!=1.25.1,<1.26,>=1.21.1 in /usr/local/lib/python3.6/dist-packages (from requests<3,>=2.20.0->mxnet==1.6.0) (1.24.3)\n",
            "Requirement already satisfied: idna<3,>=2.5 in /usr/local/lib/python3.6/dist-packages (from requests<3,>=2.20.0->mxnet==1.6.0) (2.10)\n",
            "Requirement already satisfied: chardet<4,>=3.0.2 in /usr/local/lib/python3.6/dist-packages (from requests<3,>=2.20.0->mxnet==1.6.0) (3.0.4)\n",
            "Requirement already satisfied: certifi>=2017.4.17 in /usr/local/lib/python3.6/dist-packages (from requests<3,>=2.20.0->mxnet==1.6.0) (2020.6.20)\n",
            "Installing collected packages: mxnet\n",
            "Successfully installed mxnet-1.6.0\n",
            "Collecting networkx==2.4\n",
            "\u001b[?25l  Downloading https://files.pythonhosted.org/packages/41/8f/dd6a8e85946def36e4f2c69c84219af0fa5e832b018c970e92f2ad337e45/networkx-2.4-py3-none-any.whl (1.6MB)\n",
            "\u001b[K     |████████████████████████████████| 1.6MB 11.2MB/s \n",
            "\u001b[?25hRequirement already satisfied: decorator>=4.3.0 in /usr/local/lib/python3.6/dist-packages (from networkx==2.4) (4.4.2)\n",
            "\u001b[31mERROR: albumentations 0.1.12 has requirement imgaug<0.2.7,>=0.2.5, but you'll have imgaug 0.2.9 which is incompatible.\u001b[0m\n",
            "Installing collected packages: networkx\n",
            "  Found existing installation: networkx 2.5\n",
            "    Uninstalling networkx-2.5:\n",
            "      Successfully uninstalled networkx-2.5\n",
            "Successfully installed networkx-2.4\n",
            "Collecting numpy==1.19.0\n",
            "\u001b[?25l  Downloading https://files.pythonhosted.org/packages/93/0b/71ae818646c1a80fbe6776d41f480649523ed31243f1f34d9d7e41d70195/numpy-1.19.0-cp36-cp36m-manylinux2010_x86_64.whl (14.6MB)\n",
            "\u001b[K     |████████████████████████████████| 14.6MB 341kB/s \n",
            "\u001b[31mERROR: tensorflow 2.3.0 has requirement numpy<1.19.0,>=1.16.0, but you'll have numpy 1.19.0 which is incompatible.\u001b[0m\n",
            "\u001b[31mERROR: google-colab 1.0.0 has requirement google-auth~=1.17.2, but you'll have google-auth 1.18.0 which is incompatible.\u001b[0m\n",
            "\u001b[31mERROR: datascience 0.10.6 has requirement folium==0.2.1, but you'll have folium 0.8.3 which is incompatible.\u001b[0m\n",
            "\u001b[31mERROR: albumentations 0.1.12 has requirement imgaug<0.2.7,>=0.2.5, but you'll have imgaug 0.2.9 which is incompatible.\u001b[0m\n",
            "\u001b[?25hInstalling collected packages: numpy\n",
            "  Found existing installation: numpy 1.18.5\n",
            "    Uninstalling numpy-1.18.5:\n",
            "      Successfully uninstalled numpy-1.18.5\n",
            "Successfully installed numpy-1.19.0\n"
          ],
          "name": "stdout"
        },
        {
          "output_type": "display_data",
          "data": {
            "application/vnd.colab-display-data+json": {
              "pip_warning": {
                "packages": [
                  "numpy"
                ]
              }
            }
          },
          "metadata": {
            "tags": []
          }
        },
        {
          "output_type": "stream",
          "text": [
            "Requirement already satisfied: oauthlib==3.1.0 in /usr/local/lib/python3.6/dist-packages (3.1.0)\n",
            "Collecting opencv-python==4.3.0.36\n",
            "\u001b[?25l  Downloading https://files.pythonhosted.org/packages/30/5f/fb53ff33b16add066e902c6579330cfb34cd908d7fac13ec36da1e1cf26f/opencv_python-4.3.0.36-cp36-cp36m-manylinux2014_x86_64.whl (43.7MB)\n",
            "\u001b[K     |████████████████████████████████| 43.7MB 105kB/s \n",
            "\u001b[?25hRequirement already satisfied: numpy>=1.11.3 in /usr/local/lib/python3.6/dist-packages (from opencv-python==4.3.0.36) (1.19.0)\n",
            "\u001b[31mERROR: albumentations 0.1.12 has requirement imgaug<0.2.7,>=0.2.5, but you'll have imgaug 0.2.9 which is incompatible.\u001b[0m\n",
            "Installing collected packages: opencv-python\n",
            "  Found existing installation: opencv-python 4.1.2.30\n",
            "    Uninstalling opencv-python-4.1.2.30:\n",
            "      Successfully uninstalled opencv-python-4.1.2.30\n",
            "Successfully installed opencv-python-4.3.0.36\n",
            "Collecting opt-einsum==3.2.1\n",
            "\u001b[?25l  Downloading https://files.pythonhosted.org/packages/63/a5/e6c07b08b934831ccb8c98ee335e66b7761c5754ee3cabfe4c11d0b1af28/opt_einsum-3.2.1-py3-none-any.whl (63kB)\n",
            "\u001b[K     |████████████████████████████████| 71kB 4.9MB/s \n",
            "\u001b[?25hRequirement already satisfied: numpy>=1.7 in /usr/local/lib/python3.6/dist-packages (from opt-einsum==3.2.1) (1.19.0)\n",
            "\u001b[31mERROR: tensorflow 2.3.0 has requirement numpy<1.19.0,>=1.16.0, but you'll have numpy 1.19.0 which is incompatible.\u001b[0m\n",
            "Installing collected packages: opt-einsum\n",
            "  Found existing installation: opt-einsum 3.3.0\n",
            "    Uninstalling opt-einsum-3.3.0:\n",
            "      Successfully uninstalled opt-einsum-3.3.0\n",
            "Successfully installed opt-einsum-3.2.1\n",
            "Collecting Pillow==7.2.0\n",
            "\u001b[?25l  Downloading https://files.pythonhosted.org/packages/30/bf/92385b4262178ca22b34f82e0e09c2922eb351fe39f3cc7b8ba9ea555b41/Pillow-7.2.0-cp36-cp36m-manylinux1_x86_64.whl (2.2MB)\n",
            "\u001b[K     |████████████████████████████████| 2.2MB 10.9MB/s \n",
            "\u001b[31mERROR: albumentations 0.1.12 has requirement imgaug<0.2.7,>=0.2.5, but you'll have imgaug 0.2.9 which is incompatible.\u001b[0m\n",
            "\u001b[?25hInstalling collected packages: Pillow\n",
            "  Found existing installation: Pillow 7.0.0\n",
            "    Uninstalling Pillow-7.0.0:\n",
            "      Successfully uninstalled Pillow-7.0.0\n",
            "Successfully installed Pillow-7.2.0\n"
          ],
          "name": "stdout"
        },
        {
          "output_type": "display_data",
          "data": {
            "application/vnd.colab-display-data+json": {
              "pip_warning": {
                "packages": [
                  "PIL"
                ]
              }
            }
          },
          "metadata": {
            "tags": []
          }
        },
        {
          "output_type": "stream",
          "text": [
            "Collecting portalocker==1.7.0\n",
            "  Downloading https://files.pythonhosted.org/packages/53/84/7b3146ec6378d28abc73ab484f09f47dfa008ad6f03f33d90a369f880e25/portalocker-1.7.0-py2.py3-none-any.whl\n",
            "Installing collected packages: portalocker\n",
            "  Found existing installation: portalocker 2.0.0\n",
            "    Uninstalling portalocker-2.0.0:\n",
            "      Successfully uninstalled portalocker-2.0.0\n",
            "Successfully installed portalocker-1.7.0\n",
            "Collecting protobuf==3.12.2\n",
            "\u001b[?25l  Downloading https://files.pythonhosted.org/packages/28/05/9867ef8eafd12265267bee138fa2c46ebf34a276ea4cbe184cba4c606e8b/protobuf-3.12.2-cp36-cp36m-manylinux1_x86_64.whl (1.3MB)\n",
            "\u001b[K     |████████████████████████████████| 1.3MB 11.4MB/s \n",
            "\u001b[?25hRequirement already satisfied: setuptools in /usr/local/lib/python3.6/dist-packages (from protobuf==3.12.2) (50.3.2)\n",
            "Requirement already satisfied: six>=1.9 in /usr/local/lib/python3.6/dist-packages (from protobuf==3.12.2) (1.15.0)\n",
            "\u001b[31mERROR: tensorflow 2.3.0 has requirement numpy<1.19.0,>=1.16.0, but you'll have numpy 1.19.0 which is incompatible.\u001b[0m\n",
            "Installing collected packages: protobuf\n",
            "  Found existing installation: protobuf 3.12.4\n",
            "    Uninstalling protobuf-3.12.4:\n",
            "      Successfully uninstalled protobuf-3.12.4\n"
          ],
          "name": "stdout"
        }
      ]
    },
    {
      "cell_type": "code",
      "metadata": {
        "id": "fNyA6A965Aa_",
        "outputId": "80f204cb-e83f-42b2-a079-9cbede7098f9",
        "colab": {
          "base_uri": "https://localhost:8080/"
        }
      },
      "source": [
        "#!/bin/bash\n",
        "!apt-get update\n",
        "!wget http://download.tensorflow.org/models/deeplabv3_mnv2_pascal_train_aug_2018_01_29.tar.gz\n",
        "!wget http://download.tensorflow.org/models/deeplabv3_pascal_train_aug_2018_01_04.tar.gz\n",
        "\n",
        "!mkdir -p models/mobile_net_model/model\n",
        "!tar xvzf deeplabv3_mnv2_pascal_train_aug_2018_01_29.tar.gz -C models/mobile_net_model/model --strip=1\n",
        "\n",
        "!mkdir -p models/xception_model/model\n",
        "!tar xvzf deeplabv3_pascal_train_aug_2018_01_04.tar.gz -C models/xception_model/model --strip=1\n",
        "\n",
        "\n",
        "!mkdir -p models/basnet\n",
        "!mkdir -p models/u2net\n",
        "!mkdir -p models/u2netp\n",
        "\n",
        "import gdown\n",
        "\n",
        "url = 'https://drive.google.com/uc?id=1s52ek_4YTDRt_EOkx1FS53u-vJa0c4nu'\n",
        "output = 'basnet.pth'\n",
        "gdown.download(url, output, quiet=False)\n",
        "gdown.cached_download(url, output, postprocess=gdown.extractall)\n",
        "\n",
        "url = 'https://drive.google.com/uc?id=1rbSTGKAE-MTxBYHd-51l2hMOQPT_7EPy'\n",
        "output = 'u2netp.pth'\n",
        "gdown.download(url, output, quiet=False)\n",
        "gdown.cached_download(url, output, postprocess=gdown.extractall)\n",
        "\n",
        "url = 'https://drive.google.com/uc?id=1ao1ovG1Qtx4b7EoskHXmi2E9rp5CHLcZ'\n",
        "output = 'u2net.pth'\n",
        "gdown.download(url, output, quiet=False)\n",
        "gdown.cached_download(url, output, postprocess=gdown.extractall)\n",
        "\n",
        "!mv basnet.pth ../models/basnet/\n",
        "!mv u2net.pth ../models/u2net/\n",
        "!mv u2netp.pth ../models/u2netp/\n",
        "\n",
        "!cd \n",
        "!rm deeplabv3_mnv2_pascal_train_aug_2018_01_29.tar.gz\n",
        "!rm deeplabv3_pascal_train_aug_2018_01_04.tar.gz\n",
        "!rm -rf setup*\n"
      ],
      "execution_count": 1,
      "outputs": [
        {
          "output_type": "stream",
          "text": [
            "\r0% [Working]\r            \rGet:1 http://security.ubuntu.com/ubuntu bionic-security InRelease [88.7 kB]\n",
            "\r0% [Waiting for headers] [1 InRelease 14.2 kB/88.7 kB 16%] [Connected to cloud.\r                                                                               \rGet:2 http://ppa.launchpad.net/c2d4u.team/c2d4u4.0+/ubuntu bionic InRelease [15.9 kB]\n",
            "\r0% [Waiting for headers] [1 InRelease 14.2 kB/88.7 kB 16%] [Connected to cloud.\r                                                                               \rHit:3 http://archive.ubuntu.com/ubuntu bionic InRelease\n",
            "\r0% [Waiting for headers] [1 InRelease 88.7 kB/88.7 kB 100%] [Connected to cloud\r                                                                               \rGet:4 http://archive.ubuntu.com/ubuntu bionic-updates InRelease [88.7 kB]\n",
            "\r                                                                               \rGet:5 https://cloud.r-project.org/bin/linux/ubuntu bionic-cran40/ InRelease [3,626 B]\n",
            "\r                                                                               \rHit:6 http://ppa.launchpad.net/graphics-drivers/ppa/ubuntu bionic InRelease\n",
            "Get:7 http://archive.ubuntu.com/ubuntu bionic-backports InRelease [74.6 kB]\n",
            "Ign:8 https://developer.download.nvidia.com/compute/cuda/repos/ubuntu1804/x86_64  InRelease\n",
            "Ign:9 https://developer.download.nvidia.com/compute/machine-learning/repos/ubuntu1804/x86_64  InRelease\n",
            "Get:10 https://developer.download.nvidia.com/compute/cuda/repos/ubuntu1804/x86_64  Release [697 B]\n",
            "Hit:11 https://developer.download.nvidia.com/compute/machine-learning/repos/ubuntu1804/x86_64  Release\n",
            "Get:12 https://developer.download.nvidia.com/compute/cuda/repos/ubuntu1804/x86_64  Release.gpg [836 B]\n",
            "Get:13 http://security.ubuntu.com/ubuntu bionic-security/main amd64 Packages [1,781 kB]\n",
            "Get:14 http://security.ubuntu.com/ubuntu bionic-security/universe amd64 Packages [1,365 kB]\n",
            "Get:15 http://ppa.launchpad.net/c2d4u.team/c2d4u4.0+/ubuntu bionic/main Sources [1,688 kB]\n",
            "Get:16 http://ppa.launchpad.net/c2d4u.team/c2d4u4.0+/ubuntu bionic/main amd64 Packages [864 kB]\n",
            "Get:17 http://archive.ubuntu.com/ubuntu bionic-updates/multiverse amd64 Packages [54.3 kB]\n",
            "Get:18 http://archive.ubuntu.com/ubuntu bionic-updates/main amd64 Packages [2,208 kB]\n",
            "Get:19 http://archive.ubuntu.com/ubuntu bionic-updates/restricted amd64 Packages [252 kB]\n",
            "Get:20 http://archive.ubuntu.com/ubuntu bionic-updates/universe amd64 Packages [2,130 kB]\n",
            "Ign:22 https://developer.download.nvidia.com/compute/cuda/repos/ubuntu1804/x86_64  Packages\n",
            "Get:22 https://developer.download.nvidia.com/compute/cuda/repos/ubuntu1804/x86_64  Packages [442 kB]\n",
            "Fetched 11.1 MB in 2s (4,966 kB/s)\n",
            "Reading package lists... Done\n",
            "--2020-11-19 08:10:45--  http://download.tensorflow.org/models/deeplabv3_mnv2_pascal_train_aug_2018_01_29.tar.gz\n",
            "Resolving download.tensorflow.org (download.tensorflow.org)... 74.125.143.128, 2a00:1450:4013:c00::80\n",
            "Connecting to download.tensorflow.org (download.tensorflow.org)|74.125.143.128|:80... connected.\n",
            "HTTP request sent, awaiting response... 200 OK\n",
            "Length: 23882985 (23M) [application/x-tar]\n",
            "Saving to: ‘deeplabv3_mnv2_pascal_train_aug_2018_01_29.tar.gz’\n",
            "\n",
            "deeplabv3_mnv2_pasc 100%[===================>]  22.78M  67.0MB/s    in 0.3s    \n",
            "\n",
            "2020-11-19 08:10:46 (67.0 MB/s) - ‘deeplabv3_mnv2_pascal_train_aug_2018_01_29.tar.gz’ saved [23882985/23882985]\n",
            "\n",
            "--2020-11-19 08:10:46--  http://download.tensorflow.org/models/deeplabv3_pascal_train_aug_2018_01_04.tar.gz\n",
            "Resolving download.tensorflow.org (download.tensorflow.org)... 108.177.119.128, 2a00:1450:4013:c03::80\n",
            "Connecting to download.tensorflow.org (download.tensorflow.org)|108.177.119.128|:80... connected.\n",
            "HTTP request sent, awaiting response... 200 OK\n",
            "Length: 460058541 (439M) [application/x-tar]\n",
            "Saving to: ‘deeplabv3_pascal_train_aug_2018_01_04.tar.gz’\n",
            "\n",
            "deeplabv3_pascal_tr 100%[===================>] 438.75M  27.9MB/s    in 17s     \n",
            "\n",
            "2020-11-19 08:11:05 (25.6 MB/s) - ‘deeplabv3_pascal_train_aug_2018_01_04.tar.gz’ saved [460058541/460058541]\n",
            "\n",
            "deeplabv3_mnv2_pascal_train_aug/model.ckpt-30000.index\n",
            "deeplabv3_mnv2_pascal_train_aug/frozen_inference_graph.pb\n",
            "deeplabv3_mnv2_pascal_train_aug/model.ckpt-30000.data-00000-of-00001\n",
            "deeplabv3_pascal_train_aug/model.ckpt.index\n",
            "deeplabv3_pascal_train_aug/frozen_inference_graph.pb\n",
            "deeplabv3_pascal_train_aug/model.ckpt.data-00000-of-00001\n",
            "Collecting gdown\n",
            "  Downloading https://files.pythonhosted.org/packages/50/21/92c3cfe56f5c0647145c4b0083d0733dd4890a057eb100a8eeddf949ffe9/gdown-3.12.2.tar.gz\n",
            "  Installing build dependencies ... \u001b[?25l\u001b[?25hdone\n",
            "  Getting requirements to build wheel ... \u001b[?25l\u001b[?25hdone\n",
            "    Preparing wheel metadata ... \u001b[?25l\u001b[?25hdone\n",
            "Requirement already satisfied, skipping upgrade: requests[socks] in /usr/local/lib/python3.6/dist-packages (from gdown) (2.23.0)\n",
            "Requirement already satisfied, skipping upgrade: tqdm in /usr/local/lib/python3.6/dist-packages (from gdown) (4.41.1)\n",
            "Requirement already satisfied, skipping upgrade: six in /usr/local/lib/python3.6/dist-packages (from gdown) (1.15.0)\n",
            "Requirement already satisfied, skipping upgrade: filelock in /usr/local/lib/python3.6/dist-packages (from gdown) (3.0.12)\n",
            "Requirement already satisfied, skipping upgrade: urllib3!=1.25.0,!=1.25.1,<1.26,>=1.21.1 in /usr/local/lib/python3.6/dist-packages (from requests[socks]->gdown) (1.24.3)\n",
            "Requirement already satisfied, skipping upgrade: idna<3,>=2.5 in /usr/local/lib/python3.6/dist-packages (from requests[socks]->gdown) (2.10)\n",
            "Requirement already satisfied, skipping upgrade: chardet<4,>=3.0.2 in /usr/local/lib/python3.6/dist-packages (from requests[socks]->gdown) (3.0.4)\n",
            "Requirement already satisfied, skipping upgrade: certifi>=2017.4.17 in /usr/local/lib/python3.6/dist-packages (from requests[socks]->gdown) (2020.6.20)\n",
            "Requirement already satisfied, skipping upgrade: PySocks!=1.5.7,>=1.5.6; extra == \"socks\" in /usr/local/lib/python3.6/dist-packages (from requests[socks]->gdown) (1.7.1)\n",
            "Building wheels for collected packages: gdown\n",
            "  Building wheel for gdown (PEP 517) ... \u001b[?25l\u001b[?25hdone\n",
            "  Created wheel for gdown: filename=gdown-3.12.2-cp36-none-any.whl size=9694 sha256=2c57471ebfec57c82e4e8b782b5efc7b2acaa6920c5d572defe2332ccc9226f0\n",
            "  Stored in directory: /root/.cache/pip/wheels/81/d0/d7/d9983facc6f2775411803e0e2d30ebf98efbf2fc6e57701e09\n",
            "Successfully built gdown\n",
            "Installing collected packages: gdown\n",
            "  Found existing installation: gdown 3.6.4\n",
            "    Uninstalling gdown-3.6.4:\n",
            "      Successfully uninstalled gdown-3.6.4\n",
            "Successfully installed gdown-3.12.2\n"
          ],
          "name": "stdout"
        },
        {
          "output_type": "stream",
          "text": [
            "Downloading...\n",
            "From: https://drive.google.com/uc?id=1s52ek_4YTDRt_EOkx1FS53u-vJa0c4nu\n",
            "To: /content/basnet.pth\n",
            "348MB [00:10, 32.0MB/s]\n"
          ],
          "name": "stderr"
        },
        {
          "output_type": "stream",
          "text": [
            "File exists: basnet.pth\n"
          ],
          "name": "stdout"
        },
        {
          "output_type": "stream",
          "text": [
            "Downloading...\n",
            "From: https://drive.google.com/uc?id=1rbSTGKAE-MTxBYHd-51l2hMOQPT_7EPy\n",
            "To: /content/u2netp.pth\n",
            "4.68MB [00:00, 31.1MB/s]\n"
          ],
          "name": "stderr"
        },
        {
          "output_type": "stream",
          "text": [
            "File exists: u2netp.pth\n"
          ],
          "name": "stdout"
        },
        {
          "output_type": "stream",
          "text": [
            "Downloading...\n",
            "From: https://drive.google.com/uc?id=1ao1ovG1Qtx4b7EoskHXmi2E9rp5CHLcZ\n",
            "To: /content/u2net.pth\n",
            "176MB [00:01, 132MB/s]"
          ],
          "name": "stderr"
        },
        {
          "output_type": "stream",
          "text": [
            "File exists: u2net.pth\n",
            "mv: cannot move 'basnet.pth' to '../models/basnet/': No such file or directory\n"
          ],
          "name": "stdout"
        },
        {
          "output_type": "stream",
          "text": [
            "\n"
          ],
          "name": "stderr"
        },
        {
          "output_type": "stream",
          "text": [
            "mv: cannot move 'u2net.pth' to '../models/u2net/': No such file or directory\n",
            "mv: cannot move 'u2netp.pth' to '../models/u2netp/': No such file or directory\n"
          ],
          "name": "stdout"
        }
      ]
    },
    {
      "cell_type": "markdown",
      "metadata": {
        "id": "ZETv4AC5jW09"
      },
      "source": [
        "# Remover\n",
        "\n"
      ]
    },
    {
      "cell_type": "code",
      "metadata": {
        "id": "ddInaSbQ9yZ0"
      },
      "source": [
        "import argparse\n",
        "import os\n",
        "import gc\n",
        "import tqdm\n",
        "import logging\n",
        "from libs.strings import *\n",
        "from libs.networks import model_detect\n",
        "import libs.preprocessing as preprocessing\n",
        "import libs.postprocessing as postprocessing\n",
        "\n",
        "logging.basicConfig(level=logging.ERROR)\n",
        "logger = logging.getLogger(__name__)\n",
        "\n",
        "\n",
        "def __work_mode__(path: str):\n",
        "    \"\"\"Determines the desired mode of operation\"\"\"\n",
        "    if os.path.isfile(path):  # Input is file\n",
        "        return \"file\"\n",
        "    if os.path.isdir(path):  # Input is dir\n",
        "        return \"dir\"\n",
        "    else:\n",
        "        return \"no\"\n",
        "\n",
        "\n",
        "def __save_image_file__(img, file_name, output_path, wmode):\n",
        "    \"\"\"\n",
        "    Saves the PIL image to a file\n",
        "    :param img: PIL image\n",
        "    :param file_name: File name\n",
        "    :param output_path: Output path\n",
        "    :param wmode: Work mode\n",
        "    \"\"\"\n",
        "    # create output directory if it doesn't exist\n",
        "    folder = os.path.dirname(output_path)\n",
        "    if folder != '':\n",
        "        os.makedirs(folder, exist_ok=True)\n",
        "    if wmode == \"file\":\n",
        "        file_name_out = os.path.basename(output_path)\n",
        "        if file_name_out == '':\n",
        "            # Change file extension to png\n",
        "            file_name = os.path.splitext(file_name)[0] + '.png'\n",
        "            # Save image\n",
        "            img.save(os.path.join(output_path, file_name))\n",
        "            gc.collect()\n",
        "        else:\n",
        "            try:\n",
        "                # Save image\n",
        "                img.save(output_path)\n",
        "                gc.collect()\n",
        "            except OSError as e:\n",
        "                if str(e) == \"cannot write mode RGBA as JPEG\":\n",
        "                    raise OSError(\"Error! \"\n",
        "                                  \"Please indicate the correct extension of the final file, for example: .png\")\n",
        "                else:\n",
        "                    raise e\n",
        "    else:\n",
        "        # Change file extension to png\n",
        "        file_name = os.path.splitext(file_name)[0] + '.png'\n",
        "        # Save image\n",
        "        img.save(os.path.join(output_path, file_name))\n",
        "        gc.collect()\n",
        "\n",
        "\n",
        "def process(input_path, output_path, model_name=\"u2net\",\n",
        "            preprocessing_method_name=\"bbd-fastrcnn\", postprocessing_method_name=\"rtb-bnb\"):\n",
        "    \"\"\"\n",
        "    Processes the file.\n",
        "    :param input_path: The path to the image / folder with the images to be processed.\n",
        "    :param output_path: The path to the save location.\n",
        "    :param model_name: Model to use.\n",
        "    :param postprocessing_method_name: Method for image preprocessing\n",
        "    :param preprocessing_method_name: Method for image post-processing\n",
        "    \"\"\"\n",
        "    if input_path is None or output_path is None:\n",
        "        raise Exception(\n",
        "            \"Bad parameters! Please specify input path and output path.\")\n",
        "\n",
        "    model = model_detect(model_name)  # Load model\n",
        "    if not model:\n",
        "        logger.warning(\"Warning! You specified an invalid model type. \"\n",
        "                       \"For image processing, the model with the best processing quality will be used. \"\n",
        "                       \"(u2net)\")\n",
        "        # If the model line is wrong, select the model with better quality.\n",
        "        model_name = \"u2net\"\n",
        "        model = model_detect(model_name)  # Load model\n",
        "    preprocessing_method = preprocessing.method_detect(\n",
        "        preprocessing_method_name)\n",
        "    postprocessing_method = postprocessing.method_detect(\n",
        "        postprocessing_method_name)\n",
        "    wmode = __work_mode__(input_path)  # Get work mode\n",
        "    if wmode == \"file\":  # File work mode\n",
        "        image = model.process_image(\n",
        "            input_path, preprocessing_method, postprocessing_method)\n",
        "        __save_image_file__(image, os.path.basename(\n",
        "            input_path), output_path, wmode)\n",
        "    elif wmode == \"dir\":  # Dir work mode\n",
        "        # Start process\n",
        "        files = os.listdir(input_path)\n",
        "        for file in tqdm.tqdm(files, ascii=True, desc='Remove Background', unit='image'):\n",
        "            file_path = os.path.join(input_path, file)\n",
        "            image = model.process_image(\n",
        "                file_path, preprocessing_method, postprocessing_method)\n",
        "            __save_image_file__(image, file, output_path, wmode)\n",
        "    else:\n",
        "        raise Exception(\n",
        "            \"Bad input parameter! Please indicate the correct path to the file or folder.\")\n"
      ],
      "execution_count": null,
      "outputs": []
    },
    {
      "cell_type": "code",
      "metadata": {
        "id": "241zGVB3jd2O"
      },
      "source": [
        ""
      ],
      "execution_count": null,
      "outputs": []
    }
  ]
}